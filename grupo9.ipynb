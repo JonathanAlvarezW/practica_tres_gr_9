{
 "cells": [
  {
   "cell_type": "markdown",
   "metadata": {},
   "source": [
    "# TAREA FINAL: IMPORTACIÓN DE DATASET (.CSV), SIMULACIÓN DE LOGS Y GRÁFICO DE DATOS"
   ]
  },
  {
   "cell_type": "markdown",
   "metadata": {},
   "source": [
    "Para este ejercicio propuesto lo primero que haremos es importar las librerías necesarias para trabajar con pandas, numpy, generación de gráficos con matplotlib y seaborn para generar distintos tipos de gráficos estadísticos para el mejor análisis de resultados."
   ]
  },
  {
   "cell_type": "code",
   "execution_count": 136,
   "metadata": {},
   "outputs": [],
   "source": [
    "import pandas as pd\n",
    "import numpy as np\n",
    "import matplotlib.pyplot as plt\n",
    "import seaborn as sns\n",
    "import plotly.express as px\n"
   ]
  },
  {
   "cell_type": "markdown",
   "metadata": {},
   "source": [
    "Se procederá a leer el dataset que hemos escogido para trabajar: **\"Phishing_Email_1500m.csv\"**\n",
    "\n",
    "***Nota importante:*** El dataset original **\"Phishing_Email.csv\"** no pudo ser cargado a github por superar el tamaño permitido (25MB) ya que el peso es de 49,6 MB. [GitHub muestra el siguiente mensaje: Yowza, that’s a big file. Try again with a file smaller than 25MB.]\n",
    "\n",
    "Por esta razón, se ha tomado solo las primeras 1500 muestras para reducir el tamaño del .csv a 2,35 MB **\"Phishing_Email_1500m.csv\"**"
   ]
  },
  {
   "cell_type": "code",
   "execution_count": 137,
   "metadata": {},
   "outputs": [
    {
     "data": {
      "text/html": [
       "<div>\n",
       "<style scoped>\n",
       "    .dataframe tbody tr th:only-of-type {\n",
       "        vertical-align: middle;\n",
       "    }\n",
       "\n",
       "    .dataframe tbody tr th {\n",
       "        vertical-align: top;\n",
       "    }\n",
       "\n",
       "    .dataframe thead th {\n",
       "        text-align: right;\n",
       "    }\n",
       "</style>\n",
       "<table border=\"1\" class=\"dataframe\">\n",
       "  <thead>\n",
       "    <tr style=\"text-align: right;\">\n",
       "      <th></th>\n",
       "      <th>Column1</th>\n",
       "      <th>Email Text</th>\n",
       "      <th>Email Type</th>\n",
       "    </tr>\n",
       "  </thead>\n",
       "  <tbody>\n",
       "    <tr>\n",
       "      <th>0</th>\n",
       "      <td>0</td>\n",
       "      <td>re : 6 . 1100 , disc : uniformitarianism , re ...</td>\n",
       "      <td>Safe Email</td>\n",
       "    </tr>\n",
       "    <tr>\n",
       "      <th>1</th>\n",
       "      <td>1</td>\n",
       "      <td>the other side of * galicismos * * galicismo *...</td>\n",
       "      <td>Safe Email</td>\n",
       "    </tr>\n",
       "    <tr>\n",
       "      <th>2</th>\n",
       "      <td>2</td>\n",
       "      <td>re : equistar deal tickets are you still avail...</td>\n",
       "      <td>Safe Email</td>\n",
       "    </tr>\n",
       "    <tr>\n",
       "      <th>3</th>\n",
       "      <td>3</td>\n",
       "      <td>\\nHello I am your hot lil horny toy.\\n    I am...</td>\n",
       "      <td>Phishing Email</td>\n",
       "    </tr>\n",
       "    <tr>\n",
       "      <th>4</th>\n",
       "      <td>4</td>\n",
       "      <td>software at incredibly low prices ( 86 % lower...</td>\n",
       "      <td>Phishing Email</td>\n",
       "    </tr>\n",
       "  </tbody>\n",
       "</table>\n",
       "</div>"
      ],
      "text/plain": [
       "   Column1                                         Email Text      Email Type\n",
       "0        0  re : 6 . 1100 , disc : uniformitarianism , re ...      Safe Email\n",
       "1        1  the other side of * galicismos * * galicismo *...      Safe Email\n",
       "2        2  re : equistar deal tickets are you still avail...      Safe Email\n",
       "3        3  \\nHello I am your hot lil horny toy.\\n    I am...  Phishing Email\n",
       "4        4  software at incredibly low prices ( 86 % lower...  Phishing Email"
      ]
     },
     "execution_count": 137,
     "metadata": {},
     "output_type": "execute_result"
    }
   ],
   "source": [
    "df = pd.read_csv(\"/workspaces/practica_tres_gr_9/.devcontainer/Phishing_Email_1500m.csv\", encoding=\"latin1\", sep=\";\")\n",
    "df.head()"
   ]
  },
  {
   "cell_type": "code",
   "execution_count": 138,
   "metadata": {},
   "outputs": [
    {
     "name": "stdout",
     "output_type": "stream",
     "text": [
      "Dimension of the DataFrame: (1501, 3)\n"
     ]
    }
   ],
   "source": [
    "print(\"Dimension of the DataFrame:\",df.shape)"
   ]
  },
  {
   "cell_type": "markdown",
   "metadata": {},
   "source": [
    "## Preprocesamiento del DataFrame"
   ]
  },
  {
   "cell_type": "markdown",
   "metadata": {},
   "source": [
    "Ejecutaremos el siguiente código para conocer cúantos elementos vacíos hay en cada columna."
   ]
  },
  {
   "cell_type": "code",
   "execution_count": 139,
   "metadata": {},
   "outputs": [
    {
     "data": {
      "text/plain": [
       "Column1       0\n",
       "Email Text    2\n",
       "Email Type    0\n",
       "dtype: int64"
      ]
     },
     "execution_count": 139,
     "metadata": {},
     "output_type": "execute_result"
    }
   ],
   "source": [
    "df.isnull().sum()"
   ]
  },
  {
   "cell_type": "markdown",
   "metadata": {},
   "source": [
    "Como se observa en el resultado, en el archivo .csv hay una columna que no tiene nombre y se le ha asignado por defecto \"Column1\" al cargar/leer la data. Esta columna contiene índices que no son útiles para nuestro análisis, por lo cual esta columna será eliminada. \n",
    "\n",
    "Además, existen 2 filas que tienen elementos vacíos o nulos (null values) en la columna \"Email Text\", lo siguiente que haremos en removerlos o eliminarlos."
   ]
  },
  {
   "cell_type": "code",
   "execution_count": 140,
   "metadata": {},
   "outputs": [
    {
     "name": "stdout",
     "output_type": "stream",
     "text": [
      "Dimension of the row data: (1501, 2)\n"
     ]
    }
   ],
   "source": [
    "#Eliminación de la columna denominada \"Column1\"\n",
    "#axis=1 indica que la operación se realizará a lo largo de las columnas del DataFrame\n",
    "\n",
    "df.drop([\"Column1\"],axis=1,inplace=True)\n",
    "print(\"Dimension of the row data:\",df.shape)"
   ]
  },
  {
   "cell_type": "code",
   "execution_count": 141,
   "metadata": {},
   "outputs": [
    {
     "name": "stdout",
     "output_type": "stream",
     "text": [
      "Dimension of the row data: (1448, 2)\n"
     ]
    }
   ],
   "source": [
    "#Eliminación de filas que tienen elementos vacíos o nulos (null values)\n",
    "#axis=0 se usa para operaciones a lo largo de las filas del DataFrame\n",
    "df.dropna(inplace=True,axis=0)\n",
    "df.drop_duplicates(inplace=True)\n",
    "print(\"Dimension of the row data:\",df.shape)"
   ]
  },
  {
   "cell_type": "markdown",
   "metadata": {},
   "source": [
    "Como parte del proceso general de limpieza de datos hemos: \n",
    "\n",
    "* **Eliminado muestras duplicadas o irrelevantes** y \n",
    "\n",
    "* **Tratado las muestras incompletas.**"
   ]
  },
  {
   "cell_type": "code",
   "execution_count": 142,
   "metadata": {},
   "outputs": [
    {
     "data": {
      "text/html": [
       "<div>\n",
       "<style scoped>\n",
       "    .dataframe tbody tr th:only-of-type {\n",
       "        vertical-align: middle;\n",
       "    }\n",
       "\n",
       "    .dataframe tbody tr th {\n",
       "        vertical-align: top;\n",
       "    }\n",
       "\n",
       "    .dataframe thead th {\n",
       "        text-align: right;\n",
       "    }\n",
       "</style>\n",
       "<table border=\"1\" class=\"dataframe\">\n",
       "  <thead>\n",
       "    <tr style=\"text-align: right;\">\n",
       "      <th></th>\n",
       "      <th>Email Text</th>\n",
       "      <th>Email Type</th>\n",
       "    </tr>\n",
       "  </thead>\n",
       "  <tbody>\n",
       "    <tr>\n",
       "      <th>0</th>\n",
       "      <td>re : 6 . 1100 , disc : uniformitarianism , re ...</td>\n",
       "      <td>Safe Email</td>\n",
       "    </tr>\n",
       "    <tr>\n",
       "      <th>1</th>\n",
       "      <td>the other side of * galicismos * * galicismo *...</td>\n",
       "      <td>Safe Email</td>\n",
       "    </tr>\n",
       "    <tr>\n",
       "      <th>2</th>\n",
       "      <td>re : equistar deal tickets are you still avail...</td>\n",
       "      <td>Safe Email</td>\n",
       "    </tr>\n",
       "    <tr>\n",
       "      <th>3</th>\n",
       "      <td>\\nHello I am your hot lil horny toy.\\n    I am...</td>\n",
       "      <td>Phishing Email</td>\n",
       "    </tr>\n",
       "    <tr>\n",
       "      <th>4</th>\n",
       "      <td>software at incredibly low prices ( 86 % lower...</td>\n",
       "      <td>Phishing Email</td>\n",
       "    </tr>\n",
       "  </tbody>\n",
       "</table>\n",
       "</div>"
      ],
      "text/plain": [
       "                                          Email Text      Email Type\n",
       "0  re : 6 . 1100 , disc : uniformitarianism , re ...      Safe Email\n",
       "1  the other side of * galicismos * * galicismo *...      Safe Email\n",
       "2  re : equistar deal tickets are you still avail...      Safe Email\n",
       "3  \\nHello I am your hot lil horny toy.\\n    I am...  Phishing Email\n",
       "4  software at incredibly low prices ( 86 % lower...  Phishing Email"
      ]
     },
     "execution_count": 142,
     "metadata": {},
     "output_type": "execute_result"
    }
   ],
   "source": [
    "df.head()"
   ]
  },
  {
   "cell_type": "markdown",
   "metadata": {},
   "source": [
    "Para asegurar que los valores en la columna Email Type siempre sean consistentes y se cuenten correctamente (sin importar como están escritos), es necesario normalizar esos valores convirtiendo todos los valores a minúsculas (o mayúsculas) para evitar diferencias de capitalización. En nuestro caso los convertiremos a minúsculas (**Lowercasing**)."
   ]
  },
  {
   "cell_type": "code",
   "execution_count": 143,
   "metadata": {},
   "outputs": [
    {
     "name": "stdout",
     "output_type": "stream",
     "text": [
      "False\n",
      "0           Safe Email\n",
      "1           Safe Email\n",
      "2           Safe Email\n",
      "3       Phishing Email\n",
      "4       Phishing Email\n",
      "             ...      \n",
      "1496        Safe Email\n",
      "1497    Phishing Email\n",
      "1498        Safe Email\n",
      "1499    Phishing Email\n",
      "1500        Safe Email\n",
      "Name: Email Type, Length: 1448, dtype: object\n",
      "==================================================\n",
      "0           safe email\n",
      "1           safe email\n",
      "2           safe email\n",
      "3       phishing email\n",
      "4       phishing email\n",
      "             ...      \n",
      "1496        safe email\n",
      "1497    phishing email\n",
      "1498        safe email\n",
      "1499    phishing email\n",
      "1500        safe email\n",
      "Name: Email Type, Length: 1448, dtype: object\n"
     ]
    }
   ],
   "source": [
    "#Comprobar si todos los valores de la columna 'Email Type' están en minúsculas\n",
    "all_lowercase = df['Email Type'].apply(lambda x: x.islower()).all()\n",
    "# Mostrar el resultado\n",
    "print(all_lowercase)\n",
    "print(df['Email Type'])\n",
    "print(f\"{'=' * 50}\")\n",
    "\n",
    "# Convertir todos los valores a minúsculas\n",
    "df['Email Type'] = df['Email Type'].str.lower()  \n",
    "# Mostrar el resultado\n",
    "print(df['Email Type'])"
   ]
  },
  {
   "cell_type": "markdown",
   "metadata": {},
   "source": [
    "* **Eliminar espacios innecesarios.**\n",
    "\n",
    "A veces, los datos tienen espacios extra alrededor del texto. Eliminaremos los espacios antes y después de las cadenas en la columna \"Email Type\" para evitar que se cuenten como distintos:"
   ]
  },
  {
   "cell_type": "code",
   "execution_count": 144,
   "metadata": {},
   "outputs": [
    {
     "name": "stdout",
     "output_type": "stream",
     "text": [
      "0           safe email\n",
      "1           safe email\n",
      "2           safe email\n",
      "3       phishing email\n",
      "4       phishing email\n",
      "             ...      \n",
      "1496        safe email\n",
      "1497    phishing email\n",
      "1498        safe email\n",
      "1499    phishing email\n",
      "1500        safe email\n",
      "Name: Email Type, Length: 1448, dtype: object\n"
     ]
    }
   ],
   "source": [
    "# Eliminar espacios en blanco\n",
    "df['Email Type'] = df['Email Type'].str.strip()  \n",
    "print(df['Email Type'])"
   ]
  },
  {
   "cell_type": "markdown",
   "metadata": {},
   "source": [
    "Después de hacer las correcciones, ya tenemos los datos limpios y procedemos a verificar si ahora todas las filas tienen las dos únicas categorías correctas:"
   ]
  },
  {
   "cell_type": "code",
   "execution_count": 145,
   "metadata": {},
   "outputs": [
    {
     "name": "stdout",
     "output_type": "stream",
     "text": [
      "['safe email' 'phishing email']\n"
     ]
    }
   ],
   "source": [
    "# Verificar los valores únicos en la columna\n",
    "print(df['Email Type'].unique())  "
   ]
  },
  {
   "cell_type": "markdown",
   "metadata": {},
   "source": [
    "Finalmente, podemos contar la frecuencia de los valores únicos en la columna Email Type:"
   ]
  },
  {
   "cell_type": "code",
   "execution_count": 146,
   "metadata": {},
   "outputs": [
    {
     "name": "stdout",
     "output_type": "stream",
     "text": [
      "Email Type\n",
      "safe email        869\n",
      "phishing email    579\n",
      "Name: count, dtype: int64\n"
     ]
    }
   ],
   "source": [
    "email_type_counts = df['Email Type'].value_counts()\n",
    "print(email_type_counts)"
   ]
  },
  {
   "cell_type": "markdown",
   "metadata": {},
   "source": [
    "Si sumamos la fecuencia de \"safe email\" y la de \"phishing email\" es igual al Length del DataFrame: 1448"
   ]
  },
  {
   "cell_type": "markdown",
   "metadata": {},
   "source": [
    "## Modificación del DataFrame para generar distintas gráficas.\n",
    "\n",
    "Como nuestro dataFrame únicamente tiene 2 columnas de información, procederemos a crear adicionales con datos simulados, basándonos en el código visto en clase.\n",
    "\n",
    "* Timestamp (fecha y horas aleatorias).\n",
    "\n",
    "* IP_origen (direcciones IP aleatorias).\n",
    "\n",
    "* Email_domain (dominios de correo).\n",
    "\n",
    "* Priority_level (nivel de prioridad).\n",
    "\n",
    "* Country (país de origen)."
   ]
  },
  {
   "cell_type": "markdown",
   "metadata": {},
   "source": [
    "**1. Timestamp**\n",
    "\n",
    "Como no tenemos una columna de tiempo real, generaremos una columna con fechas y horas aleatorias."
   ]
  },
  {
   "cell_type": "code",
   "execution_count": 147,
   "metadata": {},
   "outputs": [
    {
     "name": "stdout",
     "output_type": "stream",
     "text": [
      "0      2023-07-01 04:57:05\n",
      "1      2023-07-04 11:30:30\n",
      "2      2023-10-09 00:26:04\n",
      "3      2023-02-13 06:36:36\n",
      "4      2023-11-26 23:10:30\n",
      "               ...        \n",
      "1496   2023-07-13 17:34:54\n",
      "1497   2023-01-17 15:35:36\n",
      "1498   2023-11-19 09:21:22\n",
      "1499   2023-07-17 09:14:20\n",
      "1500   2023-10-07 11:50:14\n",
      "Name: Timestamp, Length: 1448, dtype: datetime64[ns]\n"
     ]
    }
   ],
   "source": [
    "# Importamos librería requerida\n",
    "from datetime import datetime, timedelta\n",
    "\n",
    "# Generar una fecha aleatoria dentro de un rango\n",
    "def generate_random_timestamp(start, end):\n",
    "    return start + timedelta(seconds=np.random.randint(0, int((end - start).total_seconds())))\n",
    "\n",
    "# Definir el rango de fechas\n",
    "start_date = datetime(2023, 1, 1)\n",
    "end_date = datetime(2024, 1, 1)\n",
    "\n",
    "# Aplicar la función a cada fila del DataFrame\n",
    "df['Timestamp'] = [generate_random_timestamp(start_date, end_date) for _ in range(len(df))]\n",
    "print(df['Timestamp'])"
   ]
  },
  {
   "cell_type": "markdown",
   "metadata": {},
   "source": [
    "**2. IP_origen**\n",
    "\n",
    "Generaremos direcciones IP aleatorias dentro de un rango específico. \n"
   ]
  },
  {
   "cell_type": "code",
   "execution_count": 148,
   "metadata": {},
   "outputs": [
    {
     "name": "stdout",
     "output_type": "stream",
     "text": [
      "0         193.27.98.119\n",
      "1       100.213.105.243\n",
      "2        57.222.212.169\n",
      "3          13.187.57.36\n",
      "4       133.146.174.220\n",
      "             ...       \n",
      "1496     176.134.197.87\n",
      "1497      140.61.84.246\n",
      "1498     121.229.145.93\n",
      "1499      187.202.71.15\n",
      "1500       77.37.48.249\n",
      "Name: IP_origen, Length: 1448, dtype: object\n"
     ]
    }
   ],
   "source": [
    "# Generar IPs aleatorias dentro de un rango\n",
    "def random_ip():\n",
    "    return f\"{np.random.randint(1, 256)}.{np.random.randint(1, 256)}.{np.random.randint(1, 256)}.{np.random.randint(1, 256)}\"\n",
    "\n",
    "# Aplicar la función a cada fila del DataFrame\n",
    "df['IP_origen'] = [random_ip() for _ in range(len(df))]\n",
    "print(df['IP_origen'])"
   ]
  },
  {
   "cell_type": "markdown",
   "metadata": {},
   "source": [
    "**3. Email_domain**\n",
    "\n",
    "Simularemos algunos dominios de las direcciones de correo y los agregaremos como una nueva columna. "
   ]
  },
  {
   "cell_type": "code",
   "execution_count": 149,
   "metadata": {},
   "outputs": [
    {
     "name": "stdout",
     "output_type": "stream",
     "text": [
      "0           yahoo.com\n",
      "1         hotmail.com\n",
      "2         hotmail.com\n",
      "3           yahoo.com\n",
      "4         @google.com\n",
      "            ...      \n",
      "1496        yahoo.com\n",
      "1497        yahoo.com\n",
      "1498    microsoft.com\n",
      "1499        gmail.com\n",
      "1500    microsoft.com\n",
      "Name: Email_domain, Length: 1448, dtype: object\n"
     ]
    }
   ],
   "source": [
    "# Simular un dominio de correo electrónico aleatorio\n",
    "dominios = ['gmail.com', 'yahoo.com', 'outlook.com', 'hotmail.com','microsoft.com', '@secureemail.com', '@google.com']\n",
    "\n",
    "def random_email_domain():\n",
    "    return np.random.choice(dominios)\n",
    "\n",
    "df['Email_domain'] = [random_email_domain() for _ in range(len(df))]\n",
    "print(df['Email_domain'])"
   ]
  },
  {
   "cell_type": "markdown",
   "metadata": {},
   "source": [
    "**4. Priority_level**\n",
    "\n",
    "Agregaremos una columna que simule el nivel de prioridad de un correo, basándonos en si es phishing email o safe email, ya que este dato viene en el dataset en la columna \"Email Type\"."
   ]
  },
  {
   "cell_type": "code",
   "execution_count": 150,
   "metadata": {},
   "outputs": [
    {
     "name": "stdout",
     "output_type": "stream",
     "text": [
      "0          Low\n",
      "1       Medium\n",
      "2          Low\n",
      "3         High\n",
      "4         High\n",
      "         ...  \n",
      "1496    Medium\n",
      "1497      High\n",
      "1498    Medium\n",
      "1499      High\n",
      "1500    Medium\n",
      "Name: Priority_level, Length: 1448, dtype: object\n"
     ]
    }
   ],
   "source": [
    "# Definir posibles niveles de prioridad para los correos seguros\n",
    "safe_priority_options = ['Low', 'Medium']\n",
    "\n",
    "# Asignar 'High' si se trata de phishing, o asignar un valor aleatorio entre 'Low' y 'Medium' si es un email seguro\n",
    "df['Priority_level'] = df['Email Type'].apply(lambda x: 'High' if x == 'phishing email' else np.random.choice(safe_priority_options))\n",
    "print(df['Priority_level']) "
   ]
  },
  {
   "cell_type": "markdown",
   "metadata": {},
   "source": [
    "**5. Country**\n",
    "\n",
    "Simularemos la ubicación de origen de los correos mediante países."
   ]
  },
  {
   "cell_type": "code",
   "execution_count": 151,
   "metadata": {},
   "outputs": [
    {
     "name": "stdout",
     "output_type": "stream",
     "text": [
      "0           Spain\n",
      "1              UK\n",
      "2             USA\n",
      "3          Canada\n",
      "4           Spain\n",
      "          ...    \n",
      "1496    Argentina\n",
      "1497       Brazil\n",
      "1498     Colombia\n",
      "1499       Canada\n",
      "1500        Spain\n",
      "Name: Country, Length: 1448, dtype: object\n"
     ]
    }
   ],
   "source": [
    "# Definir países de origen para los correos\n",
    "countries = ['USA', 'Canada', 'UK', 'Germany', 'India', 'Colombia', 'Brazil', 'Argentina', 'Spain']\n",
    "\n",
    "def random_country():\n",
    "    return np.random.choice(countries)\n",
    "\n",
    "df['Country'] = [random_country() for _ in range(len(df))]\n",
    "print(df['Country']) "
   ]
  },
  {
   "cell_type": "code",
   "execution_count": 152,
   "metadata": {},
   "outputs": [
    {
     "data": {
      "text/html": [
       "<div>\n",
       "<style scoped>\n",
       "    .dataframe tbody tr th:only-of-type {\n",
       "        vertical-align: middle;\n",
       "    }\n",
       "\n",
       "    .dataframe tbody tr th {\n",
       "        vertical-align: top;\n",
       "    }\n",
       "\n",
       "    .dataframe thead th {\n",
       "        text-align: right;\n",
       "    }\n",
       "</style>\n",
       "<table border=\"1\" class=\"dataframe\">\n",
       "  <thead>\n",
       "    <tr style=\"text-align: right;\">\n",
       "      <th></th>\n",
       "      <th>Email Text</th>\n",
       "      <th>Email Type</th>\n",
       "      <th>Timestamp</th>\n",
       "      <th>IP_origen</th>\n",
       "      <th>Email_domain</th>\n",
       "      <th>Priority_level</th>\n",
       "      <th>Country</th>\n",
       "    </tr>\n",
       "  </thead>\n",
       "  <tbody>\n",
       "    <tr>\n",
       "      <th>0</th>\n",
       "      <td>re : 6 . 1100 , disc : uniformitarianism , re ...</td>\n",
       "      <td>safe email</td>\n",
       "      <td>2023-07-01 04:57:05</td>\n",
       "      <td>193.27.98.119</td>\n",
       "      <td>yahoo.com</td>\n",
       "      <td>Low</td>\n",
       "      <td>Spain</td>\n",
       "    </tr>\n",
       "    <tr>\n",
       "      <th>1</th>\n",
       "      <td>the other side of * galicismos * * galicismo *...</td>\n",
       "      <td>safe email</td>\n",
       "      <td>2023-07-04 11:30:30</td>\n",
       "      <td>100.213.105.243</td>\n",
       "      <td>hotmail.com</td>\n",
       "      <td>Medium</td>\n",
       "      <td>UK</td>\n",
       "    </tr>\n",
       "    <tr>\n",
       "      <th>2</th>\n",
       "      <td>re : equistar deal tickets are you still avail...</td>\n",
       "      <td>safe email</td>\n",
       "      <td>2023-10-09 00:26:04</td>\n",
       "      <td>57.222.212.169</td>\n",
       "      <td>hotmail.com</td>\n",
       "      <td>Low</td>\n",
       "      <td>USA</td>\n",
       "    </tr>\n",
       "    <tr>\n",
       "      <th>3</th>\n",
       "      <td>\\nHello I am your hot lil horny toy.\\n    I am...</td>\n",
       "      <td>phishing email</td>\n",
       "      <td>2023-02-13 06:36:36</td>\n",
       "      <td>13.187.57.36</td>\n",
       "      <td>yahoo.com</td>\n",
       "      <td>High</td>\n",
       "      <td>Canada</td>\n",
       "    </tr>\n",
       "    <tr>\n",
       "      <th>4</th>\n",
       "      <td>software at incredibly low prices ( 86 % lower...</td>\n",
       "      <td>phishing email</td>\n",
       "      <td>2023-11-26 23:10:30</td>\n",
       "      <td>133.146.174.220</td>\n",
       "      <td>@google.com</td>\n",
       "      <td>High</td>\n",
       "      <td>Spain</td>\n",
       "    </tr>\n",
       "  </tbody>\n",
       "</table>\n",
       "</div>"
      ],
      "text/plain": [
       "                                          Email Text      Email Type  \\\n",
       "0  re : 6 . 1100 , disc : uniformitarianism , re ...      safe email   \n",
       "1  the other side of * galicismos * * galicismo *...      safe email   \n",
       "2  re : equistar deal tickets are you still avail...      safe email   \n",
       "3  \\nHello I am your hot lil horny toy.\\n    I am...  phishing email   \n",
       "4  software at incredibly low prices ( 86 % lower...  phishing email   \n",
       "\n",
       "            Timestamp        IP_origen Email_domain Priority_level Country  \n",
       "0 2023-07-01 04:57:05    193.27.98.119    yahoo.com            Low   Spain  \n",
       "1 2023-07-04 11:30:30  100.213.105.243  hotmail.com         Medium      UK  \n",
       "2 2023-10-09 00:26:04   57.222.212.169  hotmail.com            Low     USA  \n",
       "3 2023-02-13 06:36:36     13.187.57.36    yahoo.com           High  Canada  \n",
       "4 2023-11-26 23:10:30  133.146.174.220  @google.com           High   Spain  "
      ]
     },
     "execution_count": 152,
     "metadata": {},
     "output_type": "execute_result"
    }
   ],
   "source": [
    "df.head()"
   ]
  },
  {
   "cell_type": "markdown",
   "metadata": {},
   "source": [
    "***¡Listo!*** Ya tenemos nuestro DataFrame enriquecido con columnas de datos simulados. "
   ]
  },
  {
   "cell_type": "markdown",
   "metadata": {},
   "source": [
    "## Gráficas de Datos\n",
    "\n",
    "A continuación, graficaremos 6 diferentes ilustraciones."
   ]
  },
  {
   "cell_type": "markdown",
   "metadata": {},
   "source": [
    "### 1. Distribución Categórica de Email por tipo"
   ]
  },
  {
   "cell_type": "code",
   "execution_count": 154,
   "metadata": {},
   "outputs": [
    {
     "data": {
      "image/png": "[encoded data removed]",
      "text/plain": [
       "<Figure size 1500x1000 with 1 Axes>"
      ]
     },
     "metadata": {},
     "output_type": "display_data"
    }
   ],
   "source": [
    "# Configuración del estilo del gráfico Email por tipo\n",
    "\n",
    "# Definir tamaño\n",
    "plt.figure(figsize=(15, 10))  \n",
    "\n",
    "# Fondo con cuadrícula sutil\n",
    "sns.set_style(\"whitegrid\")  \n",
    "\n",
    "# Posicionamiento en la cuadrícula\n",
    "plt.subplot(2, 2, 1)  \n",
    "email_type_count = df['Email Type'].value_counts()\n",
    "\n",
    "# Gráfico de barras con 2 colores\n",
    "palette = sns.color_palette(\"pastel\")[:len(email_type_count)]  \n",
    "sns.barplot(x=email_type_count.index, y=email_type_count.values, hue=email_type_count.index, palette=palette, legend=False)\n",
    "\n",
    "# Rotación y alineación de etiquetas del eje X\n",
    "plt.xticks(rotation=0, ha='center')\n",
    "\n",
    "# Etiquetas y título con estilo\n",
    "plt.xlabel('Tipo de Email', fontsize=12)\n",
    "plt.ylabel('Cantidad', fontsize=12)\n",
    "plt.title('Distribución Categórica de Emails por Tipo', fontsize=16, fontweight='bold')\n",
    "\n",
    "# Añadir valores sobre las barras\n",
    "for i, v in enumerate(email_type_count.values):\n",
    "    plt.text(i, v + 5, str(v), ha='center', fontsize=10, fontweight='bold')\n",
    "\n",
    "# Ajustar automáticamente los elementos del gráfico para evitar superposición\n",
    "plt.tight_layout()\n",
    "\n",
    "# Guardar figura\n",
    "plt.savefig('distrib_email_by_type.png')  \n",
    "# Mostrar figura\n",
    "plt.show()"
   ]
  },
  {
   "cell_type": "markdown",
   "metadata": {},
   "source": [
    "### 2. Gráfico pastel por nivel de riesgo de Seguridad"
   ]
  },
  {
   "cell_type": "code",
   "execution_count": 155,
   "metadata": {},
   "outputs": [
    {
     "data": {
      "application/vnd.plotly.v1+json": {
       "config": {
        "plotlyServerURL": "https://plot.ly"
       },
       "data": [
        {
         "domain": {
          "x": [
           0,
           1
          ],
          "y": [
           0,
           1
          ]
         },
         "hovertemplate": "label=%{label}<br>value=%{value}<extra></extra>",
         "labels": [
          "High",
          "Medium",
          "Low"
         ],
         "legendgroup": "",
         "name": "",
         "showlegend": true,
         "type": "pie",
         "values": [
          579,
          448,
          421
         ]
        }
       ],
       "layout": {
        "legend": {
         "tracegroupgap": 0
        },
        "piecolorway": [
         "#FF5733",
         "#33FF57",
         "#3357FF",
         "#F4C724",
         "#A833FF"
        ],
        "template": {
         "data": {
          "bar": [
           {
            "error_x": {
             "color": "#2a3f5f"
            },
            "error_y": {
             "color": "#2a3f5f"
            },
            "marker": {
             "line": {
              "color": "#E5ECF6",
              "width": 0.5
             },
             "pattern": {
              "fillmode": "overlay",
              "size": 10,
              "solidity": 0.2
             }
            },
            "type": "bar"
           }
          ],
          "barpolar": [
           {
            "marker": {
             "line": {
              "color": "#E5ECF6",
              "width": 0.5
             },
             "pattern": {
              "fillmode": "overlay",
              "size": 10,
              "solidity": 0.2
             }
            },
            "type": "barpolar"
           }
          ],
          "carpet": [
           {
            "aaxis": {
             "endlinecolor": "#2a3f5f",
             "gridcolor": "white",
             "linecolor": "white",
             "minorgridcolor": "white",
             "startlinecolor": "#2a3f5f"
            },
            "baxis": {
             "endlinecolor": "#2a3f5f",
             "gridcolor": "white",
             "linecolor": "white",
             "minorgridcolor": "white",
             "startlinecolor": "#2a3f5f"
            },
            "type": "carpet"
           }
          ],
          "choropleth": [
           {
            "colorbar": {
             "outlinewidth": 0,
             "ticks": ""
            },
            "type": "choropleth"
           }
          ],
          "contour": [
           {
            "colorbar": {
             "outlinewidth": 0,
             "ticks": ""
            },
            "colorscale": [
             [
              0,
              "#0d0887"
             ],
             [
              0.1111111111111111,
              "#46039f"
             ],
             [
              0.2222222222222222,
              "#7201a8"
             ],
             [
              0.3333333333333333,
              "#9c179e"
             ],
             [
              0.4444444444444444,
              "#bd3786"
             ],
             [
              0.5555555555555556,
              "#d8576b"
             ],
             [
              0.6666666666666666,
              "#ed7953"
             ],
             [
              0.7777777777777778,
              "#fb9f3a"
             ],
             [
              0.8888888888888888,
              "#fdca26"
             ],
             [
              1,
              "#f0f921"
             ]
            ],
            "type": "contour"
           }
          ],
          "contourcarpet": [
           {
            "colorbar": {
             "outlinewidth": 0,
             "ticks": ""
            },
            "type": "contourcarpet"
           }
          ],
          "heatmap": [
           {
            "colorbar": {
             "outlinewidth": 0,
             "ticks": ""
            },
            "colorscale": [
             [
              0,
              "#0d0887"
             ],
             [
              0.1111111111111111,
              "#46039f"
             ],
             [
              0.2222222222222222,
              "#7201a8"
             ],
             [
              0.3333333333333333,
              "#9c179e"
             ],
             [
              0.4444444444444444,
              "#bd3786"
             ],
             [
              0.5555555555555556,
              "#d8576b"
             ],
             [
              0.6666666666666666,
              "#ed7953"
             ],
             [
              0.7777777777777778,
              "#fb9f3a"
             ],
             [
              0.8888888888888888,
              "#fdca26"
             ],
             [
              1,
              "#f0f921"
             ]
            ],
            "type": "heatmap"
           }
          ],
          "heatmapgl": [
           {
            "colorbar": {
             "outlinewidth": 0,
             "ticks": ""
            },
            "colorscale": [
             [
              0,
              "#0d0887"
             ],
             [
              0.1111111111111111,
              "#46039f"
             ],
             [
              0.2222222222222222,
              "#7201a8"
             ],
             [
              0.3333333333333333,
              "#9c179e"
             ],
             [
              0.4444444444444444,
              "#bd3786"
             ],
             [
              0.5555555555555556,
              "#d8576b"
             ],
             [
              0.6666666666666666,
              "#ed7953"
             ],
             [
              0.7777777777777778,
              "#fb9f3a"
             ],
             [
              0.8888888888888888,
              "#fdca26"
             ],
             [
              1,
              "#f0f921"
             ]
            ],
            "type": "heatmapgl"
           }
          ],
          "histogram": [
           {
            "marker": {
             "pattern": {
              "fillmode": "overlay",
              "size": 10,
              "solidity": 0.2
             }
            },
            "type": "histogram"
           }
          ],
          "histogram2d": [
           {
            "colorbar": {
             "outlinewidth": 0,
             "ticks": ""
            },
            "colorscale": [
             [
              0,
              "#0d0887"
             ],
             [
              0.1111111111111111,
              "#46039f"
             ],
             [
              0.2222222222222222,
              "#7201a8"
             ],
             [
              0.3333333333333333,
              "#9c179e"
             ],
             [
              0.4444444444444444,
              "#bd3786"
             ],
             [
              0.5555555555555556,
              "#d8576b"
             ],
             [
              0.6666666666666666,
              "#ed7953"
             ],
             [
              0.7777777777777778,
              "#fb9f3a"
             ],
             [
              0.8888888888888888,
              "#fdca26"
             ],
             [
              1,
              "#f0f921"
             ]
            ],
            "type": "histogram2d"
           }
          ],
          "histogram2dcontour": [
           {
            "colorbar": {
             "outlinewidth": 0,
             "ticks": ""
            },
            "colorscale": [
             [
              0,
              "#0d0887"
             ],
             [
              0.1111111111111111,
              "#46039f"
             ],
             [
              0.2222222222222222,
              "#7201a8"
             ],
             [
              0.3333333333333333,
              "#9c179e"
             ],
             [
              0.4444444444444444,
              "#bd3786"
             ],
             [
              0.5555555555555556,
              "#d8576b"
             ],
             [
              0.6666666666666666,
              "#ed7953"
             ],
             [
              0.7777777777777778,
              "#fb9f3a"
             ],
             [
              0.8888888888888888,
              "#fdca26"
             ],
             [
              1,
              "#f0f921"
             ]
            ],
            "type": "histogram2dcontour"
           }
          ],
          "mesh3d": [
           {
            "colorbar": {
             "outlinewidth": 0,
             "ticks": ""
            },
            "type": "mesh3d"
           }
          ],
          "parcoords": [
           {
            "line": {
             "colorbar": {
              "outlinewidth": 0,
              "ticks": ""
             }
            },
            "type": "parcoords"
           }
          ],
          "pie": [
           {
            "automargin": true,
            "type": "pie"
           }
          ],
          "scatter": [
           {
            "fillpattern": {
             "fillmode": "overlay",
             "size": 10,
             "solidity": 0.2
            },
            "type": "scatter"
           }
          ],
          "scatter3d": [
           {
            "line": {
             "colorbar": {
              "outlinewidth": 0,
              "ticks": ""
             }
            },
            "marker": {
             "colorbar": {
              "outlinewidth": 0,
              "ticks": ""
             }
            },
            "type": "scatter3d"
           }
          ],
          "scattercarpet": [
           {
            "marker": {
             "colorbar": {
              "outlinewidth": 0,
              "ticks": ""
             }
            },
            "type": "scattercarpet"
           }
          ],
          "scattergeo": [
           {
            "marker": {
             "colorbar": {
              "outlinewidth": 0,
              "ticks": ""
             }
            },
            "type": "scattergeo"
           }
          ],
          "scattergl": [
           {
            "marker": {
             "colorbar": {
              "outlinewidth": 0,
              "ticks": ""
             }
            },
            "type": "scattergl"
           }
          ],
          "scattermapbox": [
           {
            "marker": {
             "colorbar": {
              "outlinewidth": 0,
              "ticks": ""
             }
            },
            "type": "scattermapbox"
           }
          ],
          "scatterpolar": [
           {
            "marker": {
             "colorbar": {
              "outlinewidth": 0,
              "ticks": ""
             }
            },
            "type": "scatterpolar"
           }
          ],
          "scatterpolargl": [
           {
            "marker": {
             "colorbar": {
              "outlinewidth": 0,
              "ticks": ""
             }
            },
            "type": "scatterpolargl"
           }
          ],
          "scatterternary": [
           {
            "marker": {
             "colorbar": {
              "outlinewidth": 0,
              "ticks": ""
             }
            },
            "type": "scatterternary"
           }
          ],
          "surface": [
           {
            "colorbar": {
             "outlinewidth": 0,
             "ticks": ""
            },
            "colorscale": [
             [
              0,
              "#0d0887"
             ],
             [
              0.1111111111111111,
              "#46039f"
             ],
             [
              0.2222222222222222,
              "#7201a8"
             ],
             [
              0.3333333333333333,
              "#9c179e"
             ],
             [
              0.4444444444444444,
              "#bd3786"
             ],
             [
              0.5555555555555556,
              "#d8576b"
             ],
             [
              0.6666666666666666,
              "#ed7953"
             ],
             [
              0.7777777777777778,
              "#fb9f3a"
             ],
             [
              0.8888888888888888,
              "#fdca26"
             ],
             [
              1,
              "#f0f921"
             ]
            ],
            "type": "surface"
           }
          ],
          "table": [
           {
            "cells": {
             "fill": {
              "color": "#EBF0F8"
             },
             "line": {
              "color": "white"
             }
            },
            "header": {
             "fill": {
              "color": "#C8D4E3"
             },
             "line": {
              "color": "white"
             }
            },
            "type": "table"
           }
          ]
         },
         "layout": {
          "annotationdefaults": {
           "arrowcolor": "#2a3f5f",
           "arrowhead": 0,
           "arrowwidth": 1
          },
          "autotypenumbers": "strict",
          "coloraxis": {
           "colorbar": {
            "outlinewidth": 0,
            "ticks": ""
           }
          },
          "colorscale": {
           "diverging": [
            [
             0,
             "#8e0152"
            ],
            [
             0.1,
             "#c51b7d"
            ],
            [
             0.2,
             "#de77ae"
            ],
            [
             0.3,
             "#f1b6da"
            ],
            [
             0.4,
             "#fde0ef"
            ],
            [
             0.5,
             "#f7f7f7"
            ],
            [
             0.6,
             "#e6f5d0"
            ],
            [
             0.7,
             "#b8e186"
            ],
            [
             0.8,
             "#7fbc41"
            ],
            [
             0.9,
             "#4d9221"
            ],
            [
             1,
             "#276419"
            ]
           ],
           "sequential": [
            [
             0,
             "#0d0887"
            ],
            [
             0.1111111111111111,
             "#46039f"
            ],
            [
             0.2222222222222222,
             "#7201a8"
            ],
            [
             0.3333333333333333,
             "#9c179e"
            ],
            [
             0.4444444444444444,
             "#bd3786"
            ],
            [
             0.5555555555555556,
             "#d8576b"
            ],
            [
             0.6666666666666666,
             "#ed7953"
            ],
            [
             0.7777777777777778,
             "#fb9f3a"
            ],
            [
             0.8888888888888888,
             "#fdca26"
            ],
            [
             1,
             "#f0f921"
            ]
           ],
           "sequentialminus": [
            [
             0,
             "#0d0887"
            ],
            [
             0.1111111111111111,
             "#46039f"
            ],
            [
             0.2222222222222222,
             "#7201a8"
            ],
            [
             0.3333333333333333,
             "#9c179e"
            ],
            [
             0.4444444444444444,
             "#bd3786"
            ],
            [
             0.5555555555555556,
             "#d8576b"
            ],
            [
             0.6666666666666666,
             "#ed7953"
            ],
            [
             0.7777777777777778,
             "#fb9f3a"
            ],
            [
             0.8888888888888888,
             "#fdca26"
            ],
            [
             1,
             "#f0f921"
            ]
           ]
          },
          "colorway": [
           "#636efa",
           "#EF553B",
           "#00cc96",
           "#ab63fa",
           "#FFA15A",
           "#19d3f3",
           "#FF6692",
           "#B6E880",
           "#FF97FF",
           "#FECB52"
          ],
          "font": {
           "color": "#2a3f5f"
          },
          "geo": {
           "bgcolor": "white",
           "lakecolor": "white",
           "landcolor": "#E5ECF6",
           "showlakes": true,
           "showland": true,
           "subunitcolor": "white"
          },
          "hoverlabel": {
           "align": "left"
          },
          "hovermode": "closest",
          "mapbox": {
           "style": "light"
          },
          "paper_bgcolor": "white",
          "plot_bgcolor": "#E5ECF6",
          "polar": {
           "angularaxis": {
            "gridcolor": "white",
            "linecolor": "white",
            "ticks": ""
           },
           "bgcolor": "#E5ECF6",
           "radialaxis": {
            "gridcolor": "white",
            "linecolor": "white",
            "ticks": ""
           }
          },
          "scene": {
           "xaxis": {
            "backgroundcolor": "#E5ECF6",
            "gridcolor": "white",
            "gridwidth": 2,
            "linecolor": "white",
            "showbackground": true,
            "ticks": "",
            "zerolinecolor": "white"
           },
           "yaxis": {
            "backgroundcolor": "#E5ECF6",
            "gridcolor": "white",
            "gridwidth": 2,
            "linecolor": "white",
            "showbackground": true,
            "ticks": "",
            "zerolinecolor": "white"
           },
           "zaxis": {
            "backgroundcolor": "#E5ECF6",
            "gridcolor": "white",
            "gridwidth": 2,
            "linecolor": "white",
            "showbackground": true,
            "ticks": "",
            "zerolinecolor": "white"
           }
          },
          "shapedefaults": {
           "line": {
            "color": "#2a3f5f"
           }
          },
          "ternary": {
           "aaxis": {
            "gridcolor": "white",
            "linecolor": "white",
            "ticks": ""
           },
           "baxis": {
            "gridcolor": "white",
            "linecolor": "white",
            "ticks": ""
           },
           "bgcolor": "#E5ECF6",
           "caxis": {
            "gridcolor": "white",
            "linecolor": "white",
            "ticks": ""
           }
          },
          "title": {
           "x": 0.05
          },
          "xaxis": {
           "automargin": true,
           "gridcolor": "white",
           "linecolor": "white",
           "ticks": "",
           "title": {
            "standoff": 15
           },
           "zerolinecolor": "white",
           "zerolinewidth": 2
          },
          "yaxis": {
           "automargin": true,
           "gridcolor": "white",
           "linecolor": "white",
           "ticks": "",
           "title": {
            "standoff": 15
           },
           "zerolinecolor": "white",
           "zerolinewidth": 2
          }
         }
        },
        "title": {
         "text": "Clasificación Nivel de Seguridad"
        }
       }
      },
      "text/html": [
       "<div>                            <div id=\"8e69593d-1dc1-4c6d-a8ec-cd420b0a7181\" class=\"plotly-graph-div\" style=\"height:525px; width:100%;\"></div>            <script type=\"text/javascript\">                require([\"plotly\"], function(Plotly) {                    window.PLOTLYENV=window.PLOTLYENV || {};                                    if (document.getElementById(\"8e69593d-1dc1-4c6d-a8ec-cd420b0a7181\")) {                    Plotly.newPlot(                        \"8e69593d-1dc1-4c6d-a8ec-cd420b0a7181\",                        [{\"domain\":{\"x\":[0.0,1.0],\"y\":[0.0,1.0]},\"hovertemplate\":\"label=%{label}\\u003cbr\\u003evalue=%{value}\\u003cextra\\u003e\\u003c\\u002fextra\\u003e\",\"labels\":[\"High\",\"Medium\",\"Low\"],\"legendgroup\":\"\",\"name\":\"\",\"showlegend\":true,\"values\":[579,448,421],\"type\":\"pie\"}],                        {\"template\":{\"data\":{\"histogram2dcontour\":[{\"type\":\"histogram2dcontour\",\"colorbar\":{\"outlinewidth\":0,\"ticks\":\"\"},\"colorscale\":[[0.0,\"#0d0887\"],[0.1111111111111111,\"#46039f\"],[0.2222222222222222,\"#7201a8\"],[0.3333333333333333,\"#9c179e\"],[0.4444444444444444,\"#bd3786\"],[0.5555555555555556,\"#d8576b\"],[0.6666666666666666,\"#ed7953\"],[0.7777777777777778,\"#fb9f3a\"],[0.8888888888888888,\"#fdca26\"],[1.0,\"#f0f921\"]]}],\"choropleth\":[{\"type\":\"choropleth\",\"colorbar\":{\"outlinewidth\":0,\"ticks\":\"\"}}],\"histogram2d\":[{\"type\":\"histogram2d\",\"colorbar\":{\"outlinewidth\":0,\"ticks\":\"\"},\"colorscale\":[[0.0,\"#0d0887\"],[0.1111111111111111,\"#46039f\"],[0.2222222222222222,\"#7201a8\"],[0.3333333333333333,\"#9c179e\"],[0.4444444444444444,\"#bd3786\"],[0.5555555555555556,\"#d8576b\"],[0.6666666666666666,\"#ed7953\"],[0.7777777777777778,\"#fb9f3a\"],[0.8888888888888888,\"#fdca26\"],[1.0,\"#f0f921\"]]}],\"heatmap\":[{\"type\":\"heatmap\",\"colorbar\":{\"outlinewidth\":0,\"ticks\":\"\"},\"colorscale\":[[0.0,\"#0d0887\"],[0.1111111111111111,\"#46039f\"],[0.2222222222222222,\"#7201a8\"],[0.3333333333333333,\"#9c179e\"],[0.4444444444444444,\"#bd3786\"],[0.5555555555555556,\"#d8576b\"],[0.6666666666666666,\"#ed7953\"],[0.7777777777777778,\"#fb9f3a\"],[0.8888888888888888,\"#fdca26\"],[1.0,\"#f0f921\"]]}],\"heatmapgl\":[{\"type\":\"heatmapgl\",\"colorbar\":{\"outlinewidth\":0,\"ticks\":\"\"},\"colorscale\":[[0.0,\"#0d0887\"],[0.1111111111111111,\"#46039f\"],[0.2222222222222222,\"#7201a8\"],[0.3333333333333333,\"#9c179e\"],[0.4444444444444444,\"#bd3786\"],[0.5555555555555556,\"#d8576b\"],[0.6666666666666666,\"#ed7953\"],[0.7777777777777778,\"#fb9f3a\"],[0.8888888888888888,\"#fdca26\"],[1.0,\"#f0f921\"]]}],\"contourcarpet\":[{\"type\":\"contourcarpet\",\"colorbar\":{\"outlinewidth\":0,\"ticks\":\"\"}}],\"contour\":[{\"type\":\"contour\",\"colorbar\":{\"outlinewidth\":0,\"ticks\":\"\"},\"colorscale\":[[0.0,\"#0d0887\"],[0.1111111111111111,\"#46039f\"],[0.2222222222222222,\"#7201a8\"],[0.3333333333333333,\"#9c179e\"],[0.4444444444444444,\"#bd3786\"],[0.5555555555555556,\"#d8576b\"],[0.6666666666666666,\"#ed7953\"],[0.7777777777777778,\"#fb9f3a\"],[0.8888888888888888,\"#fdca26\"],[1.0,\"#f0f921\"]]}],\"surface\":[{\"type\":\"surface\",\"colorbar\":{\"outlinewidth\":0,\"ticks\":\"\"},\"colorscale\":[[0.0,\"#0d0887\"],[0.1111111111111111,\"#46039f\"],[0.2222222222222222,\"#7201a8\"],[0.3333333333333333,\"#9c179e\"],[0.4444444444444444,\"#bd3786\"],[0.5555555555555556,\"#d8576b\"],[0.6666666666666666,\"#ed7953\"],[0.7777777777777778,\"#fb9f3a\"],[0.8888888888888888,\"#fdca26\"],[1.0,\"#f0f921\"]]}],\"mesh3d\":[{\"type\":\"mesh3d\",\"colorbar\":{\"outlinewidth\":0,\"ticks\":\"\"}}],\"scatter\":[{\"fillpattern\":{\"fillmode\":\"overlay\",\"size\":10,\"solidity\":0.2},\"type\":\"scatter\"}],\"parcoords\":[{\"type\":\"parcoords\",\"line\":{\"colorbar\":{\"outlinewidth\":0,\"ticks\":\"\"}}}],\"scatterpolargl\":[{\"type\":\"scatterpolargl\",\"marker\":{\"colorbar\":{\"outlinewidth\":0,\"ticks\":\"\"}}}],\"bar\":[{\"error_x\":{\"color\":\"#2a3f5f\"},\"error_y\":{\"color\":\"#2a3f5f\"},\"marker\":{\"line\":{\"color\":\"#E5ECF6\",\"width\":0.5},\"pattern\":{\"fillmode\":\"overlay\",\"size\":10,\"solidity\":0.2}},\"type\":\"bar\"}],\"scattergeo\":[{\"type\":\"scattergeo\",\"marker\":{\"colorbar\":{\"outlinewidth\":0,\"ticks\":\"\"}}}],\"scatterpolar\":[{\"type\":\"scatterpolar\",\"marker\":{\"colorbar\":{\"outlinewidth\":0,\"ticks\":\"\"}}}],\"histogram\":[{\"marker\":{\"pattern\":{\"fillmode\":\"overlay\",\"size\":10,\"solidity\":0.2}},\"type\":\"histogram\"}],\"scattergl\":[{\"type\":\"scattergl\",\"marker\":{\"colorbar\":{\"outlinewidth\":0,\"ticks\":\"\"}}}],\"scatter3d\":[{\"type\":\"scatter3d\",\"line\":{\"colorbar\":{\"outlinewidth\":0,\"ticks\":\"\"}},\"marker\":{\"colorbar\":{\"outlinewidth\":0,\"ticks\":\"\"}}}],\"scattermapbox\":[{\"type\":\"scattermapbox\",\"marker\":{\"colorbar\":{\"outlinewidth\":0,\"ticks\":\"\"}}}],\"scatterternary\":[{\"type\":\"scatterternary\",\"marker\":{\"colorbar\":{\"outlinewidth\":0,\"ticks\":\"\"}}}],\"scattercarpet\":[{\"type\":\"scattercarpet\",\"marker\":{\"colorbar\":{\"outlinewidth\":0,\"ticks\":\"\"}}}],\"carpet\":[{\"aaxis\":{\"endlinecolor\":\"#2a3f5f\",\"gridcolor\":\"white\",\"linecolor\":\"white\",\"minorgridcolor\":\"white\",\"startlinecolor\":\"#2a3f5f\"},\"baxis\":{\"endlinecolor\":\"#2a3f5f\",\"gridcolor\":\"white\",\"linecolor\":\"white\",\"minorgridcolor\":\"white\",\"startlinecolor\":\"#2a3f5f\"},\"type\":\"carpet\"}],\"table\":[{\"cells\":{\"fill\":{\"color\":\"#EBF0F8\"},\"line\":{\"color\":\"white\"}},\"header\":{\"fill\":{\"color\":\"#C8D4E3\"},\"line\":{\"color\":\"white\"}},\"type\":\"table\"}],\"barpolar\":[{\"marker\":{\"line\":{\"color\":\"#E5ECF6\",\"width\":0.5},\"pattern\":{\"fillmode\":\"overlay\",\"size\":10,\"solidity\":0.2}},\"type\":\"barpolar\"}],\"pie\":[{\"automargin\":true,\"type\":\"pie\"}]},\"layout\":{\"autotypenumbers\":\"strict\",\"colorway\":[\"#636efa\",\"#EF553B\",\"#00cc96\",\"#ab63fa\",\"#FFA15A\",\"#19d3f3\",\"#FF6692\",\"#B6E880\",\"#FF97FF\",\"#FECB52\"],\"font\":{\"color\":\"#2a3f5f\"},\"hovermode\":\"closest\",\"hoverlabel\":{\"align\":\"left\"},\"paper_bgcolor\":\"white\",\"plot_bgcolor\":\"#E5ECF6\",\"polar\":{\"bgcolor\":\"#E5ECF6\",\"angularaxis\":{\"gridcolor\":\"white\",\"linecolor\":\"white\",\"ticks\":\"\"},\"radialaxis\":{\"gridcolor\":\"white\",\"linecolor\":\"white\",\"ticks\":\"\"}},\"ternary\":{\"bgcolor\":\"#E5ECF6\",\"aaxis\":{\"gridcolor\":\"white\",\"linecolor\":\"white\",\"ticks\":\"\"},\"baxis\":{\"gridcolor\":\"white\",\"linecolor\":\"white\",\"ticks\":\"\"},\"caxis\":{\"gridcolor\":\"white\",\"linecolor\":\"white\",\"ticks\":\"\"}},\"coloraxis\":{\"colorbar\":{\"outlinewidth\":0,\"ticks\":\"\"}},\"colorscale\":{\"sequential\":[[0.0,\"#0d0887\"],[0.1111111111111111,\"#46039f\"],[0.2222222222222222,\"#7201a8\"],[0.3333333333333333,\"#9c179e\"],[0.4444444444444444,\"#bd3786\"],[0.5555555555555556,\"#d8576b\"],[0.6666666666666666,\"#ed7953\"],[0.7777777777777778,\"#fb9f3a\"],[0.8888888888888888,\"#fdca26\"],[1.0,\"#f0f921\"]],\"sequentialminus\":[[0.0,\"#0d0887\"],[0.1111111111111111,\"#46039f\"],[0.2222222222222222,\"#7201a8\"],[0.3333333333333333,\"#9c179e\"],[0.4444444444444444,\"#bd3786\"],[0.5555555555555556,\"#d8576b\"],[0.6666666666666666,\"#ed7953\"],[0.7777777777777778,\"#fb9f3a\"],[0.8888888888888888,\"#fdca26\"],[1.0,\"#f0f921\"]],\"diverging\":[[0,\"#8e0152\"],[0.1,\"#c51b7d\"],[0.2,\"#de77ae\"],[0.3,\"#f1b6da\"],[0.4,\"#fde0ef\"],[0.5,\"#f7f7f7\"],[0.6,\"#e6f5d0\"],[0.7,\"#b8e186\"],[0.8,\"#7fbc41\"],[0.9,\"#4d9221\"],[1,\"#276419\"]]},\"xaxis\":{\"gridcolor\":\"white\",\"linecolor\":\"white\",\"ticks\":\"\",\"title\":{\"standoff\":15},\"zerolinecolor\":\"white\",\"automargin\":true,\"zerolinewidth\":2},\"yaxis\":{\"gridcolor\":\"white\",\"linecolor\":\"white\",\"ticks\":\"\",\"title\":{\"standoff\":15},\"zerolinecolor\":\"white\",\"automargin\":true,\"zerolinewidth\":2},\"scene\":{\"xaxis\":{\"backgroundcolor\":\"#E5ECF6\",\"gridcolor\":\"white\",\"linecolor\":\"white\",\"showbackground\":true,\"ticks\":\"\",\"zerolinecolor\":\"white\",\"gridwidth\":2},\"yaxis\":{\"backgroundcolor\":\"#E5ECF6\",\"gridcolor\":\"white\",\"linecolor\":\"white\",\"showbackground\":true,\"ticks\":\"\",\"zerolinecolor\":\"white\",\"gridwidth\":2},\"zaxis\":{\"backgroundcolor\":\"#E5ECF6\",\"gridcolor\":\"white\",\"linecolor\":\"white\",\"showbackground\":true,\"ticks\":\"\",\"zerolinecolor\":\"white\",\"gridwidth\":2}},\"shapedefaults\":{\"line\":{\"color\":\"#2a3f5f\"}},\"annotationdefaults\":{\"arrowcolor\":\"#2a3f5f\",\"arrowhead\":0,\"arrowwidth\":1},\"geo\":{\"bgcolor\":\"white\",\"landcolor\":\"#E5ECF6\",\"subunitcolor\":\"white\",\"showland\":true,\"showlakes\":true,\"lakecolor\":\"white\"},\"title\":{\"x\":0.05},\"mapbox\":{\"style\":\"light\"}}},\"legend\":{\"tracegroupgap\":0},\"title\":{\"text\":\"Clasificaci\\u00f3n Nivel de Seguridad\"},\"piecolorway\":[\"#FF5733\",\"#33FF57\",\"#3357FF\",\"#F4C724\",\"#A833FF\"]},                        {\"responsive\": true}                    ).then(function(){\n",
       "                            \n",
       "var gd = document.getElementById('8e69593d-1dc1-4c6d-a8ec-cd420b0a7181');\n",
       "var x = new MutationObserver(function (mutations, observer) {{\n",
       "        var display = window.getComputedStyle(gd).display;\n",
       "        if (!display || display === 'none') {{\n",
       "            console.log([gd, 'removed!']);\n",
       "            Plotly.purge(gd);\n",
       "            observer.disconnect();\n",
       "        }}\n",
       "}});\n",
       "\n",
       "// Listen for the removal of the full notebook cells\n",
       "var notebookContainer = gd.closest('#notebook-container');\n",
       "if (notebookContainer) {{\n",
       "    x.observe(notebookContainer, {childList: true});\n",
       "}}\n",
       "\n",
       "// Listen for the clearing of the current output cell\n",
       "var outputEl = gd.closest('.output');\n",
       "if (outputEl) {{\n",
       "    x.observe(outputEl, {childList: true});\n",
       "}}\n",
       "\n",
       "                        })                };                });            </script>        </div>"
      ]
     },
     "metadata": {},
     "output_type": "display_data"
    }
   ],
   "source": [
    "fig_pie = px.pie(df['Priority_level'].value_counts(), \n",
    "                 names=df['Priority_level'].value_counts().index,\n",
    "                 values=df['Priority_level'].value_counts().values, \n",
    "                 title=\"Clasificación Nivel de Seguridad\",\n",
    "                 color_discrete_sequence=[\"#FF5733\", \"#33FF57\", \"#3357FF\", \"#F4C724\", \"#A833FF\"]  # Lista de colores personalizados\n",
    "                )\n",
    "\n",
    "fig_pie.show()\n"
   ]
  },
  {
   "cell_type": "markdown",
   "metadata": {},
   "source": [
    "### 3. Actividad por hora del día"
   ]
  },
  {
   "cell_type": "code",
   "execution_count": 156,
   "metadata": {},
   "outputs": [
    {
     "data": {
      "image/png": "[encoded data removed]",
      "text/plain": [
       "<Figure size 1000x500 with 1 Axes>"
      ]
     },
     "metadata": {},
     "output_type": "display_data"
    }
   ],
   "source": [
    "# Asegurar que 'Timestamp' es tipo datetime\n",
    "df['Timestamp'] = pd.to_datetime(df['Timestamp'], errors='coerce')\n",
    "\n",
    "# Agrupar por hora sin modificar el DataFrame\n",
    "hourly_count = df.groupby(df['Timestamp'].dt.hour).size()\n",
    "\n",
    "# Graficar\n",
    "plt.figure(figsize=(10, 5))\n",
    "sns.lineplot(x=hourly_count.index, y=hourly_count.values)\n",
    "\n",
    "# Etiquetas y título\n",
    "plt.title('Actividad por Hora del Día')\n",
    "plt.xlabel('Hora')\n",
    "plt.ylabel('Número de Eventos')\n",
    "\n",
    "# Mostrar gráfico\n",
    "plt.show()\n"
   ]
  },
  {
   "cell_type": "code",
   "execution_count": null,
   "metadata": {},
   "outputs": [
    {
     "name": "stdout",
     "output_type": "stream",
     "text": [
      "Email Text                object\n",
      "Email Type                object\n",
      "Timestamp         datetime64[ns]\n",
      "IP_origen                 object\n",
      "Email_domain              object\n",
      "Priority_level            object\n",
      "Country                   object\n",
      "dtype: object\n"
     ]
    }
   ],
   "source": [
    "# verificamos los Type de cada Columna continuen igual DataFrame inicial\n",
    "print(df.dtypes)\n"
   ]
  },
  {
   "cell_type": "markdown",
   "metadata": {},
   "source": [
    "### 4. Eventos por día y por severidad"
   ]
  },
  {
   "cell_type": "code",
   "execution_count": null,
   "metadata": {},
   "outputs": [],
   "source": [
    "plt.subplot(2, 2, 4)\n",
    "logs_df['date'] = logs_df['timestamp'].dt.date\n",
    "pivot_table = pd.crosstab(logs_df['date'], logs_df['severidad'])\n",
    "pivot_table.plot(kind='bar', stacked=True, colormap='viridis')\n",
    "plt.title('Eventos por Día y Severidad')\n",
    "plt.xlabel('Fecha')\n",
    "plt.ylabel('Número de Eventos')\n",
    "plt.xticks(rotation=45)\n",
    "\n",
    "plt.tight_layout()\n",
    "plt.savefig('security_dashboard.png')"
   ]
  },
  {
   "cell_type": "markdown",
   "metadata": {},
   "source": [
    "### 5. Mapa de calor de actividad por hora y tipo de evento"
   ]
  },
  {
   "cell_type": "code",
   "execution_count": null,
   "metadata": {},
   "outputs": [],
   "source": [
    "# Crear gráfico de actividad sospechosa\n",
    "plt.figure(figsize=(12, 6))\n",
    "logs_df['hour'] = logs_df['timestamp'].dt.hour\n",
    "heatmap_data = pd.crosstab(logs_df['hour'], logs_df['evento'])\n",
    "sns.heatmap(heatmap_data, cmap='YlOrRd', annot=True, fmt='d', cbar_kws={'label': 'Número de Eventos'})\n",
    "plt.title('Eventos por Hora y Tipo')\n",
    "plt.xlabel('Tipo de Evento')\n",
    "plt.ylabel('Hora del Día')\n",
    "plt.tight_layout()\n",
    "plt.savefig('activity_heatmap.png')"
   ]
  },
  {
   "cell_type": "markdown",
   "metadata": {},
   "source": [
    "### 6. Análisis de accesos fallidos por usuario"
   ]
  },
  {
   "cell_type": "code",
   "execution_count": null,
   "metadata": {},
   "outputs": [],
   "source": [
    "plt.figure(figsize=(10, 6))\n",
    "failed_logins = logs_df[(logs_df['evento'] == 'login_failure') & (logs_df['exitoso'] == False)]\n",
    "user_failures = failed_logins['usuario'].value_counts()\n",
    "sns.barplot(x=user_failures.index.fillna('anónimo'), y=user_failures.values)\n",
    "plt.title('Intentos de Login Fallidos por Usuario')\n",
    "plt.xlabel('Usuario')\n",
    "plt.ylabel('Número de Intentos Fallidos')\n",
    "plt.xticks(rotation=45)\n",
    "plt.tight_layout()\n",
    "plt.savefig('failed_logins_by_user.png')"
   ]
  },
  {
   "cell_type": "markdown",
   "metadata": {},
   "source": [
    "### 7. Línea de tiempo de eventos críticos"
   ]
  },
  {
   "cell_type": "code",
   "execution_count": null,
   "metadata": {},
   "outputs": [],
   "source": [
    "plt.figure(figsize=(12, 4))\n",
    "critical_events = logs_df[logs_df['severidad'] == 'critical']\n",
    "plt.scatter(critical_events['timestamp'], [1]*len(critical_events), c='red', s=100)\n",
    "plt.yticks([])\n",
    "plt.title('Línea de Tiempo de Eventos Críticos')\n",
    "plt.xlabel('Fecha y Hora')\n",
    "plt.tight_layout()\n",
    "plt.savefig('critical_events_timeline.png')\n",
    "\n",
    "print(\"Visualizaciones generadas correctamente. Revisa los archivos .png generados.\")"
   ]
  }
 ],
 "metadata": {
  "kernelspec": {
   "display_name": "base",
   "language": "python",
   "name": "python3"
  },
  "language_info": {
   "codemirror_mode": {
    "name": "ipython",
    "version": 3
   },
   "file_extension": ".py",
   "mimetype": "text/x-python",
   "name": "python",
   "nbconvert_exporter": "python",
   "pygments_lexer": "ipython3",
   "version": "3.12.7"
  }
 },
 "nbformat": 4,
 "nbformat_minor": 2
}
