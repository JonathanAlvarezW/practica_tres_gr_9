{
 "cells": [
  {
   "cell_type": "markdown",
   "metadata": {},
   "source": [
    "# TAREA FINAL: IMPORTACIÓN DE DATASET (.CSV), SIMULACIÓN DE LOGS Y GRÁFICO DE DATOS"
   ]
  },
  {
   "cell_type": "markdown",
   "metadata": {},
   "source": [
    "Para este ejercicio propuesto lo primero que haremos es importar las librerías necesarias para trabajar con pandas, numpy, generación de gráficos con matplotlib y seaborn para generar distintos tipos de gráficos estadísticos para el mejor análisis de resultados."
   ]
  },
  {
   "cell_type": "code",
   "execution_count": 24,
   "metadata": {},
   "outputs": [],
   "source": [
    "import pandas as pd\n",
    "import numpy as np\n",
    "import matplotlib.pyplot as plt\n",
    "import seaborn as sns"
   ]
  },
  {
   "cell_type": "markdown",
   "metadata": {},
   "source": [
    "Se procederá a leer el dataset que hemos escogido para trabajar: **\"Phishing_Email_1500m.csv\"**\n",
    "\n",
    "***Nota importante:*** El dataset original **\"Phishing_Email.csv\"** no pudo ser cargado a github por superar el tamaño permitido (25MB) ya que el peso es de 49,6 MB. [GitHub muestra el siguiente mensaje: Yowza, that’s a big file. Try again with a file smaller than 25MB.]\n",
    "\n",
    "Por esta razón, se ha tomado solo las primeras 1500 muestras para reducir el tamaño del .csv a 2,35 MB **\"Phishing_Email_1500m.csv\"**"
   ]
  },
  {
   "cell_type": "code",
   "execution_count": 25,
   "metadata": {},
   "outputs": [
    {
     "data": {
      "text/html": [
       "<div>\n",
       "<style scoped>\n",
       "    .dataframe tbody tr th:only-of-type {\n",
       "        vertical-align: middle;\n",
       "    }\n",
       "\n",
       "    .dataframe tbody tr th {\n",
       "        vertical-align: top;\n",
       "    }\n",
       "\n",
       "    .dataframe thead th {\n",
       "        text-align: right;\n",
       "    }\n",
       "</style>\n",
       "<table border=\"1\" class=\"dataframe\">\n",
       "  <thead>\n",
       "    <tr style=\"text-align: right;\">\n",
       "      <th></th>\n",
       "      <th>Column1</th>\n",
       "      <th>Email Text</th>\n",
       "      <th>Email Type</th>\n",
       "    </tr>\n",
       "  </thead>\n",
       "  <tbody>\n",
       "    <tr>\n",
       "      <th>0</th>\n",
       "      <td>0</td>\n",
       "      <td>re : 6 . 1100 , disc : uniformitarianism , re ...</td>\n",
       "      <td>Safe Email</td>\n",
       "    </tr>\n",
       "    <tr>\n",
       "      <th>1</th>\n",
       "      <td>1</td>\n",
       "      <td>the other side of * galicismos * * galicismo *...</td>\n",
       "      <td>Safe Email</td>\n",
       "    </tr>\n",
       "    <tr>\n",
       "      <th>2</th>\n",
       "      <td>2</td>\n",
       "      <td>re : equistar deal tickets are you still avail...</td>\n",
       "      <td>Safe Email</td>\n",
       "    </tr>\n",
       "    <tr>\n",
       "      <th>3</th>\n",
       "      <td>3</td>\n",
       "      <td>\\nHello I am your hot lil horny toy.\\n    I am...</td>\n",
       "      <td>Phishing Email</td>\n",
       "    </tr>\n",
       "    <tr>\n",
       "      <th>4</th>\n",
       "      <td>4</td>\n",
       "      <td>software at incredibly low prices ( 86 % lower...</td>\n",
       "      <td>Phishing Email</td>\n",
       "    </tr>\n",
       "  </tbody>\n",
       "</table>\n",
       "</div>"
      ],
      "text/plain": [
       "   Column1                                         Email Text      Email Type\n",
       "0        0  re : 6 . 1100 , disc : uniformitarianism , re ...      Safe Email\n",
       "1        1  the other side of * galicismos * * galicismo *...      Safe Email\n",
       "2        2  re : equistar deal tickets are you still avail...      Safe Email\n",
       "3        3  \\nHello I am your hot lil horny toy.\\n    I am...  Phishing Email\n",
       "4        4  software at incredibly low prices ( 86 % lower...  Phishing Email"
      ]
     },
     "execution_count": 25,
     "metadata": {},
     "output_type": "execute_result"
    }
   ],
   "source": [
    "df = pd.read_csv(\"/workspaces/practica_tres_gr_9/Phishing_Email_1500m.csv\", encoding=\"latin1\", sep=\";\")\n",
    "df.head()"
   ]
  },
  {
   "cell_type": "code",
   "execution_count": 26,
   "metadata": {},
   "outputs": [
    {
     "name": "stdout",
     "output_type": "stream",
     "text": [
      "Dimension of the DataFrame: (1501, 3)\n"
     ]
    }
   ],
   "source": [
    "print(\"Dimension of the DataFrame:\",df.shape)"
   ]
  },
  {
   "cell_type": "markdown",
   "metadata": {},
   "source": [
    "## Preprocesamiento del DataFrame"
   ]
  },
  {
   "cell_type": "markdown",
   "metadata": {},
   "source": [
    "Ejecutaremos el siguiente código para conocer cúantos elementos vacíos hay en cada columna."
   ]
  },
  {
   "cell_type": "code",
   "execution_count": 27,
   "metadata": {},
   "outputs": [
    {
     "data": {
      "text/plain": [
       "Column1       0\n",
       "Email Text    2\n",
       "Email Type    0\n",
       "dtype: int64"
      ]
     },
     "execution_count": 27,
     "metadata": {},
     "output_type": "execute_result"
    }
   ],
   "source": [
    "df.isnull().sum()"
   ]
  },
  {
   "cell_type": "markdown",
   "metadata": {},
   "source": [
    "Como se observa en el resultado, en el archivo .csv hay una columna que no tiene nombre y se le ha asignado por defecto \"Column1\" al cargar/leer la data. Esta columna contiene índices que no son útiles para nuestro análisis, por lo cual esta columna será eliminada. \n",
    "\n",
    "Además, existen 2 filas que tienen elementos vacíos o nulos (null values) en la columna \"Email Text\", lo siguiente que haremos en removerlos o eliminarlos."
   ]
  },
  {
   "cell_type": "code",
   "execution_count": 28,
   "metadata": {},
   "outputs": [
    {
     "name": "stdout",
     "output_type": "stream",
     "text": [
      "Dimension of the row data: (1501, 2)\n"
     ]
    }
   ],
   "source": [
    "#Eliminación de la columna denominada \"Column1\"\n",
    "#axis=1 indica que la operación se realizará a lo largo de las columnas del DataFrame\n",
    "\n",
    "df.drop([\"Column1\"],axis=1,inplace=True)\n",
    "print(\"Dimension of the row data:\",df.shape)"
   ]
  },
  {
   "cell_type": "code",
   "execution_count": 29,
   "metadata": {},
   "outputs": [
    {
     "name": "stdout",
     "output_type": "stream",
     "text": [
      "Dimension of the row data: (1448, 2)\n"
     ]
    }
   ],
   "source": [
    "#Eliminación de filas que tienen elementos vacíos o nulos (null values)\n",
    "#axis=0 se usa para operaciones a lo largo de las filas del DataFrame\n",
    "df.dropna(inplace=True,axis=0)\n",
    "df.drop_duplicates(inplace=True)\n",
    "print(\"Dimension of the row data:\",df.shape)"
   ]
  },
  {
   "cell_type": "markdown",
   "metadata": {},
   "source": [
    "Como parte del proceso general de limpieza de datos hemos: \n",
    "\n",
    "* **Eliminado muestras duplicadas o irrelevantes** y \n",
    "\n",
    "* **Tratado las muestras incompletas.**"
   ]
  },
  {
   "cell_type": "code",
   "execution_count": 30,
   "metadata": {},
   "outputs": [
    {
     "data": {
      "text/html": [
       "<div>\n",
       "<style scoped>\n",
       "    .dataframe tbody tr th:only-of-type {\n",
       "        vertical-align: middle;\n",
       "    }\n",
       "\n",
       "    .dataframe tbody tr th {\n",
       "        vertical-align: top;\n",
       "    }\n",
       "\n",
       "    .dataframe thead th {\n",
       "        text-align: right;\n",
       "    }\n",
       "</style>\n",
       "<table border=\"1\" class=\"dataframe\">\n",
       "  <thead>\n",
       "    <tr style=\"text-align: right;\">\n",
       "      <th></th>\n",
       "      <th>Email Text</th>\n",
       "      <th>Email Type</th>\n",
       "    </tr>\n",
       "  </thead>\n",
       "  <tbody>\n",
       "    <tr>\n",
       "      <th>0</th>\n",
       "      <td>re : 6 . 1100 , disc : uniformitarianism , re ...</td>\n",
       "      <td>Safe Email</td>\n",
       "    </tr>\n",
       "    <tr>\n",
       "      <th>1</th>\n",
       "      <td>the other side of * galicismos * * galicismo *...</td>\n",
       "      <td>Safe Email</td>\n",
       "    </tr>\n",
       "    <tr>\n",
       "      <th>2</th>\n",
       "      <td>re : equistar deal tickets are you still avail...</td>\n",
       "      <td>Safe Email</td>\n",
       "    </tr>\n",
       "    <tr>\n",
       "      <th>3</th>\n",
       "      <td>\\nHello I am your hot lil horny toy.\\n    I am...</td>\n",
       "      <td>Phishing Email</td>\n",
       "    </tr>\n",
       "    <tr>\n",
       "      <th>4</th>\n",
       "      <td>software at incredibly low prices ( 86 % lower...</td>\n",
       "      <td>Phishing Email</td>\n",
       "    </tr>\n",
       "  </tbody>\n",
       "</table>\n",
       "</div>"
      ],
      "text/plain": [
       "                                          Email Text      Email Type\n",
       "0  re : 6 . 1100 , disc : uniformitarianism , re ...      Safe Email\n",
       "1  the other side of * galicismos * * galicismo *...      Safe Email\n",
       "2  re : equistar deal tickets are you still avail...      Safe Email\n",
       "3  \\nHello I am your hot lil horny toy.\\n    I am...  Phishing Email\n",
       "4  software at incredibly low prices ( 86 % lower...  Phishing Email"
      ]
     },
     "execution_count": 30,
     "metadata": {},
     "output_type": "execute_result"
    }
   ],
   "source": [
    "df.head()"
   ]
  },
  {
   "cell_type": "markdown",
   "metadata": {},
   "source": [
    "Para asegurar que los valores en la columna Email Type siempre sean consistentes y se cuenten correctamente (sin importar como están escritos), es necesario normalizar esos valores convirtiendo todos los valores a minúsculas (o mayúsculas) para evitar diferencias de capitalización. En nuestro caso los convertiremos a minúsculas (**Lowercasing**)."
   ]
  },
  {
   "cell_type": "code",
   "execution_count": 31,
   "metadata": {},
   "outputs": [
    {
     "name": "stdout",
     "output_type": "stream",
     "text": [
      "False\n",
      "0           Safe Email\n",
      "1           Safe Email\n",
      "2           Safe Email\n",
      "3       Phishing Email\n",
      "4       Phishing Email\n",
      "             ...      \n",
      "1496        Safe Email\n",
      "1497    Phishing Email\n",
      "1498        Safe Email\n",
      "1499    Phishing Email\n",
      "1500        Safe Email\n",
      "Name: Email Type, Length: 1448, dtype: object\n",
      "==================================================\n",
      "0           safe email\n",
      "1           safe email\n",
      "2           safe email\n",
      "3       phishing email\n",
      "4       phishing email\n",
      "             ...      \n",
      "1496        safe email\n",
      "1497    phishing email\n",
      "1498        safe email\n",
      "1499    phishing email\n",
      "1500        safe email\n",
      "Name: Email Type, Length: 1448, dtype: object\n"
     ]
    }
   ],
   "source": [
    "#Comprobar si todos los valores de la columna 'Email Type' están en minúsculas\n",
    "all_lowercase = df['Email Type'].apply(lambda x: x.islower()).all()\n",
    "# Mostrar el resultado\n",
    "print(all_lowercase)\n",
    "print(df['Email Type'])\n",
    "print(f\"{'=' * 50}\")\n",
    "\n",
    "# Convertir todos los valores a minúsculas\n",
    "df['Email Type'] = df['Email Type'].str.lower()  \n",
    "# Mostrar el resultado\n",
    "print(df['Email Type'])"
   ]
  },
  {
   "cell_type": "markdown",
   "metadata": {},
   "source": [
    "* **Eliminar espacios innecesarios.**\n",
    "\n",
    "A veces, los datos tienen espacios extra alrededor del texto. Eliminaremos los espacios antes y después de las cadenas en la columna \"Email Type\" para evitar que se cuenten como distintos:"
   ]
  },
  {
   "cell_type": "code",
   "execution_count": 47,
   "metadata": {},
   "outputs": [
    {
     "name": "stdout",
     "output_type": "stream",
     "text": [
      "0           safe email\n",
      "1           safe email\n",
      "2           safe email\n",
      "3       phishing email\n",
      "4       phishing email\n",
      "             ...      \n",
      "1496        safe email\n",
      "1497    phishing email\n",
      "1498        safe email\n",
      "1499    phishing email\n",
      "1500        safe email\n",
      "Name: Email Type, Length: 1448, dtype: object\n"
     ]
    }
   ],
   "source": [
    "# Eliminar espacios en blanco\n",
    "df['Email Type'] = df['Email Type'].str.strip()  \n",
    "print(df['Email Type'])"
   ]
  },
  {
   "cell_type": "markdown",
   "metadata": {},
   "source": [
    "Después de hacer las correcciones, ya tenemos los datos limpios y procedemos a verificar si ahora todas las filas tienen las dos únicas categorías correctas:"
   ]
  },
  {
   "cell_type": "code",
   "execution_count": 48,
   "metadata": {},
   "outputs": [
    {
     "name": "stdout",
     "output_type": "stream",
     "text": [
      "['safe email' 'phishing email']\n"
     ]
    }
   ],
   "source": [
    "# Verificar los valores únicos en la columna\n",
    "print(df['Email Type'].unique())  "
   ]
  },
  {
   "cell_type": "markdown",
   "metadata": {},
   "source": [
    "Finalmente, podemos contar la frecuencia de los valores únicos en la columna Email Type:"
   ]
  },
  {
   "cell_type": "code",
   "execution_count": 49,
   "metadata": {},
   "outputs": [
    {
     "name": "stdout",
     "output_type": "stream",
     "text": [
      "Email Type\n",
      "safe email        869\n",
      "phishing email    579\n",
      "Name: count, dtype: int64\n"
     ]
    }
   ],
   "source": [
    "email_type_counts = df['Email Type'].value_counts()\n",
    "print(email_type_counts)"
   ]
  },
  {
   "cell_type": "markdown",
   "metadata": {},
   "source": [
    "Si sumamos la fecuencia de \"safe email\" y la de \"phishing email\" es igual al Length del DataFrame: 1448"
   ]
  },
  {
   "cell_type": "code",
   "execution_count": 32,
   "metadata": {},
   "outputs": [
    {
     "data": {
      "text/plain": [
       "<Figure size 1500x1000 with 0 Axes>"
      ]
     },
     "execution_count": 32,
     "metadata": {},
     "output_type": "execute_result"
    },
    {
     "data": {
      "text/plain": [
       "<Figure size 1500x1000 with 0 Axes>"
      ]
     },
     "metadata": {},
     "output_type": "display_data"
    }
   ],
   "source": [
    "# Usaremos los datos generados en el ejemplo anterior\n",
    "# Para simplificar, recreamos un conjunto similar pero más pequeño\n",
    "\n",
    "# Generar 500 registros de logs simulados\n",
    "np.random.seed(42)\n",
    "\n",
    "# Lista de eventos de seguridad\n",
    "eventos = ['login_success', 'login_failure', 'file_access', 'admin_login', \n",
    "           'password_change', 'firewall_block', 'suspicious_activity', \n",
    "           'malware_detected', 'port_scan']\n",
    "\n",
    "# Generar timestamps para una semana\n",
    "fechas = pd.date_range(start='2023-01-01', periods=7)\n",
    "timestamps = []\n",
    "for fecha in fechas:\n",
    "    for hora in range(24):\n",
    "        for _ in range(3):  # 3 eventos por hora aprox\n",
    "            timestamps.append(fecha + pd.Timedelta(hours=hora) + \n",
    "                             pd.Timedelta(minutes=np.random.randint(60)))\n",
    "\n",
    "# Ajustar al número de registros deseados\n",
    "timestamps = timestamps[:500]\n",
    "\n",
    "# Generar IPs aleatorias\n",
    "def random_ip():\n",
    "    return f\"{np.random.randint(1, 256)}.{np.random.randint(1, 256)}.{np.random.randint(1, 256)}.{np.random.randint(1, 256)}\"\n",
    "\n",
    "# Usuarios del sistema\n",
    "usuarios = ['admin', 'user1', 'user2', 'user3', 'system', 'guest', None]\n",
    "\n",
    "# Generar datos simulados\n",
    "data = {\n",
    "    'timestamp': timestamps,\n",
    "    'ip_origen': [random_ip() for _ in range(500)],\n",
    "    'evento': np.random.choice(eventos, 500, p=[0.3, 0.2, 0.2, 0.05, 0.05, 0.08, 0.07, 0.03, 0.02]),\n",
    "    'usuario': np.random.choice(usuarios, 500, p=[0.1, 0.2, 0.2, 0.2, 0.1, 0.1, 0.1]),\n",
    "    'severidad': np.random.choice(['low', 'medium', 'high', 'critical'], 500, p=[0.5, 0.3, 0.15, 0.05]),\n",
    "    'exitoso': np.random.choice([True, False], 500, p=[0.8, 0.2]),\n",
    "}\n",
    "\n",
    "# Crear DataFrame\n",
    "logs_df = pd.DataFrame(data)\n",
    "\n",
    "# Configurar timestamp como índice\n",
    "logs_df['timestamp'] = pd.to_datetime(logs_df['timestamp'])\n",
    "logs_df = logs_df.sort_values('timestamp')\n",
    "\n",
    "# Ahora creamos las visualizaciones\n",
    "plt.figure(figsize=(15, 10))"
   ]
  },
  {
   "cell_type": "markdown",
   "metadata": {},
   "source": [
    "Generamos datos \n",
    "\n",
    "Generar 500 registros de logs simulados"
   ]
  },
  {
   "cell_type": "code",
   "execution_count": 33,
   "metadata": {},
   "outputs": [],
   "source": [
    "# Generar 500 registros de logs simulados\n",
    "np.random.seed(42)"
   ]
  },
  {
   "cell_type": "markdown",
   "metadata": {},
   "source": [
    "Lista de eventos de seguridad"
   ]
  },
  {
   "cell_type": "code",
   "execution_count": 34,
   "metadata": {},
   "outputs": [],
   "source": [
    "eventos = ['login_success', 'login_failure', 'file_access', 'admin_login', \n",
    "           'password_change', 'firewall_block', 'suspicious_activity', \n",
    "           'malware_detected', 'port_scan']"
   ]
  },
  {
   "cell_type": "markdown",
   "metadata": {},
   "source": [
    "Generar timestamps para una semana"
   ]
  },
  {
   "cell_type": "code",
   "execution_count": 35,
   "metadata": {},
   "outputs": [],
   "source": [
    "fechas = pd.date_range(start='2023-01-01', periods=7)\n",
    "timestamps = []\n",
    "for fecha in fechas:\n",
    "    for hora in range(24):\n",
    "        for _ in range(3):  # 3 eventos por hora aprox\n",
    "            timestamps.append(fecha + pd.Timedelta(hours=hora) + \n",
    "                             pd.Timedelta(minutes=np.random.randint(60)))"
   ]
  },
  {
   "cell_type": "code",
   "execution_count": 36,
   "metadata": {},
   "outputs": [
    {
     "name": "stdout",
     "output_type": "stream",
     "text": [
      "[Timestamp('2023-01-01 00:38:00'), Timestamp('2023-01-01 00:51:00'), Timestamp('2023-01-01 00:28:00'), Timestamp('2023-01-01 01:14:00'), Timestamp('2023-01-01 01:42:00'), Timestamp('2023-01-01 01:07:00'), Timestamp('2023-01-01 02:20:00'), Timestamp('2023-01-01 02:38:00'), Timestamp('2023-01-01 02:57:00'), Timestamp('2023-01-01 03:18:00'), Timestamp('2023-01-01 03:22:00'), Timestamp('2023-01-01 03:10:00'), Timestamp('2023-01-01 04:10:00'), Timestamp('2023-01-01 04:23:00'), Timestamp('2023-01-01 04:52:00'), Timestamp('2023-01-01 05:35:00'), Timestamp('2023-01-01 05:39:00'), Timestamp('2023-01-01 05:23:00'), Timestamp('2023-01-01 06:02:00'), Timestamp('2023-01-01 06:21:00'), Timestamp('2023-01-01 06:52:00'), Timestamp('2023-01-01 07:01:00'), Timestamp('2023-01-01 07:23:00'), Timestamp('2023-01-01 07:43:00'), Timestamp('2023-01-01 08:29:00'), Timestamp('2023-01-01 08:37:00'), Timestamp('2023-01-01 08:01:00'), Timestamp('2023-01-01 09:59:00'), Timestamp('2023-01-01 09:20:00'), Timestamp('2023-01-01 09:32:00'), Timestamp('2023-01-01 10:11:00'), Timestamp('2023-01-01 10:57:00'), Timestamp('2023-01-01 10:21:00'), Timestamp('2023-01-01 11:43:00'), Timestamp('2023-01-01 11:24:00'), Timestamp('2023-01-01 11:48:00'), Timestamp('2023-01-01 12:26:00'), Timestamp('2023-01-01 12:58:00'), Timestamp('2023-01-01 12:41:00'), Timestamp('2023-01-01 13:27:00'), Timestamp('2023-01-01 13:59:00'), Timestamp('2023-01-01 13:15:00'), Timestamp('2023-01-01 14:14:00'), Timestamp('2023-01-01 14:46:00'), Timestamp('2023-01-01 14:50:00'), Timestamp('2023-01-01 15:43:00'), Timestamp('2023-01-01 15:54:00'), Timestamp('2023-01-01 15:51:00'), Timestamp('2023-01-01 16:56:00'), Timestamp('2023-01-01 16:02:00'), Timestamp('2023-01-01 16:36:00'), Timestamp('2023-01-01 17:50:00'), Timestamp('2023-01-01 17:06:00'), Timestamp('2023-01-01 17:20:00'), Timestamp('2023-01-01 18:08:00'), Timestamp('2023-01-01 18:38:00'), Timestamp('2023-01-01 18:17:00'), Timestamp('2023-01-01 19:03:00'), Timestamp('2023-01-01 19:24:00'), Timestamp('2023-01-01 19:59:00'), Timestamp('2023-01-01 20:13:00'), Timestamp('2023-01-01 20:49:00'), Timestamp('2023-01-01 20:57:00'), Timestamp('2023-01-01 21:08:00'), Timestamp('2023-01-01 21:25:00'), Timestamp('2023-01-01 21:52:00'), Timestamp('2023-01-01 22:01:00'), Timestamp('2023-01-01 22:19:00'), Timestamp('2023-01-01 22:27:00'), Timestamp('2023-01-01 23:46:00'), Timestamp('2023-01-01 23:59:00'), Timestamp('2023-01-01 23:06:00'), Timestamp('2023-01-02 00:43:00'), Timestamp('2023-01-02 00:07:00'), Timestamp('2023-01-02 00:46:00'), Timestamp('2023-01-02 01:34:00'), Timestamp('2023-01-02 01:13:00'), Timestamp('2023-01-02 01:16:00'), Timestamp('2023-01-02 02:35:00'), Timestamp('2023-01-02 02:49:00'), Timestamp('2023-01-02 02:39:00'), Timestamp('2023-01-02 03:03:00'), Timestamp('2023-01-02 03:01:00'), Timestamp('2023-01-02 03:05:00'), Timestamp('2023-01-02 04:53:00'), Timestamp('2023-01-02 04:41:00'), Timestamp('2023-01-02 04:03:00'), Timestamp('2023-01-02 05:53:00'), Timestamp('2023-01-02 05:28:00'), Timestamp('2023-01-02 05:17:00'), Timestamp('2023-01-02 06:25:00'), Timestamp('2023-01-02 06:43:00'), Timestamp('2023-01-02 06:33:00'), Timestamp('2023-01-02 07:09:00'), Timestamp('2023-01-02 07:35:00'), Timestamp('2023-01-02 07:13:00'), Timestamp('2023-01-02 08:30:00'), Timestamp('2023-01-02 08:47:00'), Timestamp('2023-01-02 08:14:00'), Timestamp('2023-01-02 09:07:00'), Timestamp('2023-01-02 09:13:00'), Timestamp('2023-01-02 09:22:00'), Timestamp('2023-01-02 10:59:00'), Timestamp('2023-01-02 10:56:00'), Timestamp('2023-01-02 10:39:00'), Timestamp('2023-01-02 11:20:00'), Timestamp('2023-01-02 11:15:00'), Timestamp('2023-01-02 11:44:00'), Timestamp('2023-01-02 12:17:00'), Timestamp('2023-01-02 12:46:00'), Timestamp('2023-01-02 12:52:00'), Timestamp('2023-01-02 13:23:00'), Timestamp('2023-01-02 13:25:00'), Timestamp('2023-01-02 13:24:00'), Timestamp('2023-01-02 14:59:00'), Timestamp('2023-01-02 14:59:00'), Timestamp('2023-01-02 14:59:00'), Timestamp('2023-01-02 15:44:00'), Timestamp('2023-01-02 15:40:00'), Timestamp('2023-01-02 15:28:00'), Timestamp('2023-01-02 16:14:00'), Timestamp('2023-01-02 16:44:00'), Timestamp('2023-01-02 16:00:00'), Timestamp('2023-01-02 17:24:00'), Timestamp('2023-01-02 17:06:00'), Timestamp('2023-01-02 17:08:00'), Timestamp('2023-01-02 18:23:00'), Timestamp('2023-01-02 18:00:00'), Timestamp('2023-01-02 18:43:00'), Timestamp('2023-01-02 19:07:00'), Timestamp('2023-01-02 19:23:00'), Timestamp('2023-01-02 19:10:00'), Timestamp('2023-01-02 20:50:00'), Timestamp('2023-01-02 20:16:00'), Timestamp('2023-01-02 20:07:00'), Timestamp('2023-01-02 21:34:00'), Timestamp('2023-01-02 21:34:00'), Timestamp('2023-01-02 21:32:00'), Timestamp('2023-01-02 22:58:00'), Timestamp('2023-01-02 22:04:00'), Timestamp('2023-01-02 22:41:00'), Timestamp('2023-01-02 23:38:00'), Timestamp('2023-01-02 23:57:00'), Timestamp('2023-01-02 23:40:00'), Timestamp('2023-01-03 00:27:00'), Timestamp('2023-01-03 00:06:00'), Timestamp('2023-01-03 00:08:00'), Timestamp('2023-01-03 01:07:00'), Timestamp('2023-01-03 01:11:00'), Timestamp('2023-01-03 01:33:00'), Timestamp('2023-01-03 02:32:00'), Timestamp('2023-01-03 02:47:00'), Timestamp('2023-01-03 02:54:00'), Timestamp('2023-01-03 03:22:00'), Timestamp('2023-01-03 03:23:00'), Timestamp('2023-01-03 03:36:00'), Timestamp('2023-01-03 04:34:00'), Timestamp('2023-01-03 04:43:00'), Timestamp('2023-01-03 04:39:00'), Timestamp('2023-01-03 05:21:00'), Timestamp('2023-01-03 05:26:00'), Timestamp('2023-01-03 05:34:00'), Timestamp('2023-01-03 06:00:00'), Timestamp('2023-01-03 06:34:00'), Timestamp('2023-01-03 06:36:00'), Timestamp('2023-01-03 07:46:00'), Timestamp('2023-01-03 07:13:00'), Timestamp('2023-01-03 07:02:00'), Timestamp('2023-01-03 08:00:00'), Timestamp('2023-01-03 08:04:00'), Timestamp('2023-01-03 08:25:00'), Timestamp('2023-01-03 09:54:00'), Timestamp('2023-01-03 09:13:00'), Timestamp('2023-01-03 09:38:00'), Timestamp('2023-01-03 10:26:00'), Timestamp('2023-01-03 10:08:00'), Timestamp('2023-01-03 10:14:00'), Timestamp('2023-01-03 11:14:00'), Timestamp('2023-01-03 11:25:00'), Timestamp('2023-01-03 11:41:00'), Timestamp('2023-01-03 12:59:00'), Timestamp('2023-01-03 12:12:00'), Timestamp('2023-01-03 12:50:00'), Timestamp('2023-01-03 13:31:00'), Timestamp('2023-01-03 13:38:00'), Timestamp('2023-01-03 13:48:00'), Timestamp('2023-01-03 14:51:00'), Timestamp('2023-01-03 14:31:00'), Timestamp('2023-01-03 14:03:00'), Timestamp('2023-01-03 15:29:00'), Timestamp('2023-01-03 15:36:00'), Timestamp('2023-01-03 15:22:00'), Timestamp('2023-01-03 16:38:00'), Timestamp('2023-01-03 16:44:00'), Timestamp('2023-01-03 16:14:00'), Timestamp('2023-01-03 17:42:00'), Timestamp('2023-01-03 17:28:00'), Timestamp('2023-01-03 17:35:00'), Timestamp('2023-01-03 18:12:00'), Timestamp('2023-01-03 18:31:00'), Timestamp('2023-01-03 18:06:00'), Timestamp('2023-01-03 19:58:00'), Timestamp('2023-01-03 19:50:00'), Timestamp('2023-01-03 19:21:00'), Timestamp('2023-01-03 20:27:00'), Timestamp('2023-01-03 20:01:00'), Timestamp('2023-01-03 20:41:00'), Timestamp('2023-01-03 21:44:00'), Timestamp('2023-01-03 21:56:00'), Timestamp('2023-01-03 21:52:00'), Timestamp('2023-01-03 22:05:00'), Timestamp('2023-01-03 22:27:00'), Timestamp('2023-01-03 22:27:00'), Timestamp('2023-01-03 23:43:00'), Timestamp('2023-01-03 23:43:00'), Timestamp('2023-01-03 23:19:00'), Timestamp('2023-01-04 00:29:00'), Timestamp('2023-01-04 00:10:00'), Timestamp('2023-01-04 00:57:00'), Timestamp('2023-01-04 01:54:00'), Timestamp('2023-01-04 01:27:00'), Timestamp('2023-01-04 01:24:00'), Timestamp('2023-01-04 02:38:00'), Timestamp('2023-01-04 02:32:00'), Timestamp('2023-01-04 02:00:00'), Timestamp('2023-01-04 03:56:00'), Timestamp('2023-01-04 03:26:00'), Timestamp('2023-01-04 03:56:00'), Timestamp('2023-01-04 04:51:00'), Timestamp('2023-01-04 04:12:00'), Timestamp('2023-01-04 04:40:00'), Timestamp('2023-01-04 05:02:00'), Timestamp('2023-01-04 05:38:00'), Timestamp('2023-01-04 05:05:00'), Timestamp('2023-01-04 06:07:00'), Timestamp('2023-01-04 06:26:00'), Timestamp('2023-01-04 06:08:00'), Timestamp('2023-01-04 07:36:00'), Timestamp('2023-01-04 07:32:00'), Timestamp('2023-01-04 07:50:00'), Timestamp('2023-01-04 08:41:00'), Timestamp('2023-01-04 08:43:00'), Timestamp('2023-01-04 08:23:00'), Timestamp('2023-01-04 09:14:00'), Timestamp('2023-01-04 09:58:00'), Timestamp('2023-01-04 09:53:00'), Timestamp('2023-01-04 10:31:00'), Timestamp('2023-01-04 10:31:00'), Timestamp('2023-01-04 10:23:00'), Timestamp('2023-01-04 11:40:00'), Timestamp('2023-01-04 11:51:00'), Timestamp('2023-01-04 11:48:00'), Timestamp('2023-01-04 12:48:00'), Timestamp('2023-01-04 12:57:00'), Timestamp('2023-01-04 12:51:00'), Timestamp('2023-01-04 13:11:00'), Timestamp('2023-01-04 13:38:00'), Timestamp('2023-01-04 13:01:00'), Timestamp('2023-01-04 14:02:00'), Timestamp('2023-01-04 14:48:00'), Timestamp('2023-01-04 14:36:00'), Timestamp('2023-01-04 15:48:00'), Timestamp('2023-01-04 15:55:00'), Timestamp('2023-01-04 15:16:00'), Timestamp('2023-01-04 16:58:00'), Timestamp('2023-01-04 16:48:00'), Timestamp('2023-01-04 16:01:00'), Timestamp('2023-01-04 17:01:00'), Timestamp('2023-01-04 17:27:00'), Timestamp('2023-01-04 17:53:00'), Timestamp('2023-01-04 18:22:00'), Timestamp('2023-01-04 18:36:00'), Timestamp('2023-01-04 18:31:00'), Timestamp('2023-01-04 19:32:00'), Timestamp('2023-01-04 19:00:00'), Timestamp('2023-01-04 19:18:00'), Timestamp('2023-01-04 20:01:00'), Timestamp('2023-01-04 20:52:00'), Timestamp('2023-01-04 20:43:00'), Timestamp('2023-01-04 21:25:00'), Timestamp('2023-01-04 21:31:00'), Timestamp('2023-01-04 21:05:00'), Timestamp('2023-01-04 22:31:00'), Timestamp('2023-01-04 22:54:00'), Timestamp('2023-01-04 22:03:00'), Timestamp('2023-01-04 23:54:00'), Timestamp('2023-01-04 23:10:00'), Timestamp('2023-01-04 23:55:00'), Timestamp('2023-01-05 00:58:00'), Timestamp('2023-01-05 00:16:00'), Timestamp('2023-01-05 00:37:00'), Timestamp('2023-01-05 01:23:00'), Timestamp('2023-01-05 01:04:00'), Timestamp('2023-01-05 01:51:00'), Timestamp('2023-01-05 02:33:00'), Timestamp('2023-01-05 02:05:00'), Timestamp('2023-01-05 02:21:00'), Timestamp('2023-01-05 03:10:00'), Timestamp('2023-01-05 03:47:00'), Timestamp('2023-01-05 03:15:00'), Timestamp('2023-01-05 04:32:00'), Timestamp('2023-01-05 04:08:00'), Timestamp('2023-01-05 04:59:00'), Timestamp('2023-01-05 05:58:00'), Timestamp('2023-01-05 05:05:00'), Timestamp('2023-01-05 05:15:00'), Timestamp('2023-01-05 06:28:00'), Timestamp('2023-01-05 06:02:00'), Timestamp('2023-01-05 06:19:00'), Timestamp('2023-01-05 07:59:00'), Timestamp('2023-01-05 07:58:00'), Timestamp('2023-01-05 07:35:00'), Timestamp('2023-01-05 08:18:00'), Timestamp('2023-01-05 08:25:00'), Timestamp('2023-01-05 08:02:00'), Timestamp('2023-01-05 09:18:00'), Timestamp('2023-01-05 09:19:00'), Timestamp('2023-01-05 09:31:00'), Timestamp('2023-01-05 10:06:00'), Timestamp('2023-01-05 10:51:00'), Timestamp('2023-01-05 10:40:00'), Timestamp('2023-01-05 11:32:00'), Timestamp('2023-01-05 11:39:00'), Timestamp('2023-01-05 11:38:00'), Timestamp('2023-01-05 12:17:00'), Timestamp('2023-01-05 12:39:00'), Timestamp('2023-01-05 12:00:00'), Timestamp('2023-01-05 13:10:00'), Timestamp('2023-01-05 13:27:00'), Timestamp('2023-01-05 13:56:00'), Timestamp('2023-01-05 14:24:00'), Timestamp('2023-01-05 14:49:00'), Timestamp('2023-01-05 14:22:00'), Timestamp('2023-01-05 15:30:00'), Timestamp('2023-01-05 15:29:00'), Timestamp('2023-01-05 15:41:00'), Timestamp('2023-01-05 16:34:00'), Timestamp('2023-01-05 16:06:00'), Timestamp('2023-01-05 16:59:00'), Timestamp('2023-01-05 17:15:00'), Timestamp('2023-01-05 17:25:00'), Timestamp('2023-01-05 17:47:00'), Timestamp('2023-01-05 18:56:00'), Timestamp('2023-01-05 18:51:00'), Timestamp('2023-01-05 18:59:00'), Timestamp('2023-01-05 19:48:00'), Timestamp('2023-01-05 19:01:00'), Timestamp('2023-01-05 19:00:00'), Timestamp('2023-01-05 20:47:00'), Timestamp('2023-01-05 20:11:00'), Timestamp('2023-01-05 20:04:00'), Timestamp('2023-01-05 21:36:00'), Timestamp('2023-01-05 21:31:00'), Timestamp('2023-01-05 21:58:00'), Timestamp('2023-01-05 22:54:00'), Timestamp('2023-01-05 22:08:00'), Timestamp('2023-01-05 22:40:00'), Timestamp('2023-01-05 23:34:00'), Timestamp('2023-01-05 23:18:00'), Timestamp('2023-01-05 23:47:00'), Timestamp('2023-01-06 00:15:00'), Timestamp('2023-01-06 00:02:00'), Timestamp('2023-01-06 00:19:00'), Timestamp('2023-01-06 01:23:00'), Timestamp('2023-01-06 01:53:00'), Timestamp('2023-01-06 01:55:00'), Timestamp('2023-01-06 02:32:00'), Timestamp('2023-01-06 02:23:00'), Timestamp('2023-01-06 02:51:00'), Timestamp('2023-01-06 03:10:00'), Timestamp('2023-01-06 03:48:00'), Timestamp('2023-01-06 03:07:00'), Timestamp('2023-01-06 04:35:00'), Timestamp('2023-01-06 04:37:00'), Timestamp('2023-01-06 04:39:00'), Timestamp('2023-01-06 05:19:00'), Timestamp('2023-01-06 05:34:00'), Timestamp('2023-01-06 05:47:00'), Timestamp('2023-01-06 06:24:00'), Timestamp('2023-01-06 06:34:00'), Timestamp('2023-01-06 06:24:00'), Timestamp('2023-01-06 07:28:00'), Timestamp('2023-01-06 07:17:00'), Timestamp('2023-01-06 07:45:00'), Timestamp('2023-01-06 08:17:00'), Timestamp('2023-01-06 08:01:00'), Timestamp('2023-01-06 08:53:00'), Timestamp('2023-01-06 09:34:00'), Timestamp('2023-01-06 09:15:00'), Timestamp('2023-01-06 09:40:00'), Timestamp('2023-01-06 10:35:00'), Timestamp('2023-01-06 10:32:00'), Timestamp('2023-01-06 10:03:00'), Timestamp('2023-01-06 11:32:00'), Timestamp('2023-01-06 11:13:00'), Timestamp('2023-01-06 11:20:00'), Timestamp('2023-01-06 12:47:00'), Timestamp('2023-01-06 12:19:00'), Timestamp('2023-01-06 12:55:00'), Timestamp('2023-01-06 13:07:00'), Timestamp('2023-01-06 13:06:00'), Timestamp('2023-01-06 13:02:00'), Timestamp('2023-01-06 14:16:00'), Timestamp('2023-01-06 14:32:00'), Timestamp('2023-01-06 14:47:00'), Timestamp('2023-01-06 15:11:00'), Timestamp('2023-01-06 15:58:00'), Timestamp('2023-01-06 15:50:00'), Timestamp('2023-01-06 16:21:00'), Timestamp('2023-01-06 16:54:00'), Timestamp('2023-01-06 16:21:00'), Timestamp('2023-01-06 17:45:00'), Timestamp('2023-01-06 17:29:00'), Timestamp('2023-01-06 17:37:00'), Timestamp('2023-01-06 18:37:00'), Timestamp('2023-01-06 18:44:00'), Timestamp('2023-01-06 18:50:00'), Timestamp('2023-01-06 19:53:00'), Timestamp('2023-01-06 19:07:00'), Timestamp('2023-01-06 19:26:00'), Timestamp('2023-01-06 20:26:00'), Timestamp('2023-01-06 20:33:00'), Timestamp('2023-01-06 20:20:00'), Timestamp('2023-01-06 21:29:00'), Timestamp('2023-01-06 21:32:00'), Timestamp('2023-01-06 21:27:00'), Timestamp('2023-01-06 22:46:00'), Timestamp('2023-01-06 22:32:00'), Timestamp('2023-01-06 22:04:00'), Timestamp('2023-01-06 23:59:00'), Timestamp('2023-01-06 23:47:00'), Timestamp('2023-01-06 23:18:00'), Timestamp('2023-01-07 00:03:00'), Timestamp('2023-01-07 00:34:00'), Timestamp('2023-01-07 00:48:00'), Timestamp('2023-01-07 01:16:00'), Timestamp('2023-01-07 01:43:00'), Timestamp('2023-01-07 01:27:00'), Timestamp('2023-01-07 02:29:00'), Timestamp('2023-01-07 02:28:00'), Timestamp('2023-01-07 02:45:00'), Timestamp('2023-01-07 03:52:00'), Timestamp('2023-01-07 03:05:00'), Timestamp('2023-01-07 03:34:00'), Timestamp('2023-01-07 04:59:00'), Timestamp('2023-01-07 04:40:00'), Timestamp('2023-01-07 04:36:00'), Timestamp('2023-01-07 05:23:00'), Timestamp('2023-01-07 05:28:00'), Timestamp('2023-01-07 05:48:00'), Timestamp('2023-01-07 06:45:00'), Timestamp('2023-01-07 06:52:00'), Timestamp('2023-01-07 06:30:00'), Timestamp('2023-01-07 07:34:00'), Timestamp('2023-01-07 07:59:00'), Timestamp('2023-01-07 07:32:00'), Timestamp('2023-01-07 08:51:00'), Timestamp('2023-01-07 08:20:00'), Timestamp('2023-01-07 08:31:00'), Timestamp('2023-01-07 09:22:00'), Timestamp('2023-01-07 09:32:00'), Timestamp('2023-01-07 09:02:00'), Timestamp('2023-01-07 10:17:00'), Timestamp('2023-01-07 10:24:00'), Timestamp('2023-01-07 10:41:00'), Timestamp('2023-01-07 11:30:00'), Timestamp('2023-01-07 11:53:00'), Timestamp('2023-01-07 11:57:00'), Timestamp('2023-01-07 12:02:00'), Timestamp('2023-01-07 12:39:00'), Timestamp('2023-01-07 12:45:00'), Timestamp('2023-01-07 13:23:00'), Timestamp('2023-01-07 13:49:00'), Timestamp('2023-01-07 13:31:00'), Timestamp('2023-01-07 14:46:00'), Timestamp('2023-01-07 14:21:00'), Timestamp('2023-01-07 14:22:00'), Timestamp('2023-01-07 15:01:00'), Timestamp('2023-01-07 15:26:00'), Timestamp('2023-01-07 15:41:00'), Timestamp('2023-01-07 16:01:00'), Timestamp('2023-01-07 16:25:00'), Timestamp('2023-01-07 16:16:00'), Timestamp('2023-01-07 17:39:00'), Timestamp('2023-01-07 17:32:00'), Timestamp('2023-01-07 17:08:00'), Timestamp('2023-01-07 18:42:00'), Timestamp('2023-01-07 18:53:00'), Timestamp('2023-01-07 18:47:00'), Timestamp('2023-01-07 19:38:00'), Timestamp('2023-01-07 19:28:00'), Timestamp('2023-01-07 19:41:00'), Timestamp('2023-01-07 20:54:00'), Timestamp('2023-01-07 20:25:00'), Timestamp('2023-01-07 20:34:00'), Timestamp('2023-01-07 21:49:00'), Timestamp('2023-01-07 21:24:00'), Timestamp('2023-01-07 21:23:00'), Timestamp('2023-01-07 22:12:00'), Timestamp('2023-01-07 22:59:00'), Timestamp('2023-01-07 22:57:00'), Timestamp('2023-01-07 23:06:00'), Timestamp('2023-01-07 23:56:00'), Timestamp('2023-01-07 23:35:00')]\n"
     ]
    }
   ],
   "source": [
    "print(timestamps)"
   ]
  },
  {
   "cell_type": "markdown",
   "metadata": {},
   "source": [
    "Ajustar al número de registros deseados"
   ]
  },
  {
   "cell_type": "code",
   "execution_count": 37,
   "metadata": {},
   "outputs": [],
   "source": [
    "timestamps = timestamps[:500]"
   ]
  },
  {
   "cell_type": "markdown",
   "metadata": {},
   "source": [
    "Crear DataFrame"
   ]
  },
  {
   "cell_type": "code",
   "execution_count": 38,
   "metadata": {},
   "outputs": [],
   "source": [
    "logs_df = pd.DataFrame(data)"
   ]
  },
  {
   "cell_type": "markdown",
   "metadata": {},
   "source": [
    "Configurar timestamp como índice"
   ]
  },
  {
   "cell_type": "code",
   "execution_count": 39,
   "metadata": {},
   "outputs": [],
   "source": [
    "logs_df['timestamp'] = pd.to_datetime(logs_df['timestamp'])\n",
    "logs_df = logs_df.sort_values('timestamp')"
   ]
  },
  {
   "cell_type": "markdown",
   "metadata": {},
   "source": [
    "# Ahora creamos las visualizaciones"
   ]
  },
  {
   "cell_type": "code",
   "execution_count": 40,
   "metadata": {},
   "outputs": [
    {
     "data": {
      "text/plain": [
       "<Figure size 1500x1000 with 0 Axes>"
      ]
     },
     "execution_count": 40,
     "metadata": {},
     "output_type": "execute_result"
    },
    {
     "data": {
      "text/plain": [
       "<Figure size 1500x1000 with 0 Axes>"
      ]
     },
     "metadata": {},
     "output_type": "display_data"
    }
   ],
   "source": [
    "# Crear DataFrame\n",
    "logs_df = pd.DataFrame(data)\n",
    "\n",
    "# Configurar timestamp como índice\n",
    "logs_df['timestamp'] = pd.to_datetime(logs_df['timestamp'])\n",
    "logs_df = logs_df.sort_values('timestamp')\n",
    "\n",
    "# Ahora creamos las visualizaciones\n",
    "plt.figure(figsize=(15, 10))"
   ]
  },
  {
   "cell_type": "code",
   "execution_count": 41,
   "metadata": {},
   "outputs": [
    {
     "data": {
      "image/png": "[encoded data removed]",
      "text/plain": [
       "<Figure size 640x480 with 1 Axes>"
      ]
     },
     "metadata": {},
     "output_type": "display_data"
    }
   ],
   "source": [
    "# 1. Distribución de eventos por tipo\n",
    "plt.subplot(2, 2, 1)\n",
    "eventos_count = logs_df['evento'].value_counts()\n",
    "sns.barplot(x=eventos_count.index, y=eventos_count.values)\n",
    "plt.xticks(rotation=45, ha='right')\n",
    "plt.title('Distribución de Eventos por Tipo')\n",
    "plt.tight_layout()"
   ]
  },
  {
   "cell_type": "markdown",
   "metadata": {},
   "source": [
    "# 2. Distribución de eventos por severidad"
   ]
  },
  {
   "cell_type": "code",
   "execution_count": 42,
   "metadata": {},
   "outputs": [
    {
     "data": {
      "text/plain": [
       "Text(0.5, 1.0, 'Distribución de Eventos por Severidad')"
      ]
     },
     "execution_count": 42,
     "metadata": {},
     "output_type": "execute_result"
    },
    {
     "data": {
      "image/png": "[encoded data removed]",
      "text/plain": [
       "<Figure size 640x480 with 1 Axes>"
      ]
     },
     "metadata": {},
     "output_type": "display_data"
    }
   ],
   "source": [
    "plt.subplot(2, 2, 2)\n",
    "severidad_count = logs_df['severidad'].value_counts()\n",
    "colors = {'low': 'green', 'medium': 'blue', 'high': 'orange', 'critical': 'red'}\n",
    "plt.pie(severidad_count, labels=severidad_count.index, autopct='%1.1f%%', colors=[colors[sev] for sev in severidad_count.index])\n",
    "plt.title('Distribución de Eventos por Severidad')"
   ]
  },
  {
   "cell_type": "markdown",
   "metadata": {},
   "source": [
    "# 3. Actividad por hora del día"
   ]
  },
  {
   "cell_type": "code",
   "execution_count": 43,
   "metadata": {},
   "outputs": [
    {
     "data": {
      "text/plain": [
       "Text(0, 0.5, 'Número de Eventos')"
      ]
     },
     "execution_count": 43,
     "metadata": {},
     "output_type": "execute_result"
    },
    {
     "data": {
      "image/png": "[encoded data removed]",
      "text/plain": [
       "<Figure size 640x480 with 1 Axes>"
      ]
     },
     "metadata": {},
     "output_type": "display_data"
    }
   ],
   "source": [
    "plt.subplot(2, 2, 3)\n",
    "logs_df['hour'] = logs_df['timestamp'].dt.hour\n",
    "hourly_count = logs_df.groupby('hour').size()\n",
    "sns.lineplot(x=hourly_count.index, y=hourly_count.values)\n",
    "plt.title('Actividad por Hora del Día')\n",
    "plt.xlabel('Hora')\n",
    "plt.ylabel('Número de Eventos')"
   ]
  },
  {
   "cell_type": "code",
   "execution_count": 44,
   "metadata": {},
   "outputs": [
    {
     "data": {
      "image/png": "[encoded data removed]",
      "text/plain": [
       "<Figure size 640x480 with 1 Axes>"
      ]
     },
     "metadata": {},
     "output_type": "display_data"
    }
   ],
   "source": [
    "# 4. Eventos por día y por severidad\n",
    "# plt.subplot(2, 2, 4)\n",
    "logs_df['date'] = logs_df['timestamp'].dt.date\n",
    "pivot_table = pd.crosstab(logs_df['date'], logs_df['severidad'])\n",
    "pivot_table.plot(kind='bar', stacked=True, colormap='viridis')\n",
    "plt.title('Eventos por Día y Severidad')\n",
    "plt.xlabel('Fecha')\n",
    "plt.ylabel('Número de Eventos')\n",
    "plt.xticks(rotation=45)\n",
    "\n",
    "plt.tight_layout()\n",
    "plt.savefig('security_dashboard.png')"
   ]
  }
 ],
 "metadata": {
  "kernelspec": {
   "display_name": "base",
   "language": "python",
   "name": "python3"
  },
  "language_info": {
   "codemirror_mode": {
    "name": "ipython",
    "version": 3
   },
   "file_extension": ".py",
   "mimetype": "text/x-python",
   "name": "python",
   "nbconvert_exporter": "python",
   "pygments_lexer": "ipython3",
   "version": "3.12.7"
  }
 },
 "nbformat": 4,
 "nbformat_minor": 2
}
