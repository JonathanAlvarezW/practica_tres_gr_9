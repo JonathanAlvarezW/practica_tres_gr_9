{
 "cells": [
  {
   "cell_type": "markdown",
   "metadata": {},
   "source": [
    "# CODIGO SIMULACION DE LOGS Y GRAFICO DE DATOS"
   ]
  },
  {
   "cell_type": "code",
   "execution_count": null,
   "metadata": {},
   "outputs": [],
   "source": [
    "import pandas as pd\n",
    "import numpy as np\n",
    "import matplotlib.pyplot as plt\n",
    "import seaborn as sns\n",
    "\n",
    "# Usaremos los datos generados en el ejemplo anterior\n",
    "# Para simplificar, recreamos un conjunto similar pero más pequeño\n",
    "\n",
    "# Generar 500 registros de logs simulados\n",
    "np.random.seed(42)\n",
    "\n",
    "# Lista de eventos de seguridad\n",
    "eventos = ['login_success', 'login_failure', 'file_access', 'admin_login', \n",
    "           'password_change', 'firewall_block', 'suspicious_activity', \n",
    "           'malware_detected', 'port_scan']\n",
    "\n",
    "# Generar timestamps para una semana\n",
    "fechas = pd.date_range(start='2023-01-01', periods=7)\n",
    "timestamps = []\n",
    "for fecha in fechas:\n",
    "    for hora in range(24):\n",
    "        for _ in range(3):  # 3 eventos por hora aprox\n",
    "            timestamps.append(fecha + pd.Timedelta(hours=hora) + \n",
    "                             pd.Timedelta(minutes=np.random.randint(60)))\n",
    "\n",
    "# Ajustar al número de registros deseados\n",
    "timestamps = timestamps[:500]\n",
    "\n",
    "# Generar IPs aleatorias\n",
    "def random_ip():\n",
    "    return f\"{np.random.randint(1, 256)}.{np.random.randint(1, 256)}.{np.random.randint(1, 256)}.{np.random.randint(1, 256)}\"\n",
    "\n",
    "# Usuarios del sistema\n",
    "usuarios = ['admin', 'user1', 'user2', 'user3', 'system', 'guest', None]\n",
    "\n",
    "# Generar datos simulados\n",
    "data = {\n",
    "    'timestamp': timestamps,\n",
    "    'ip_origen': [random_ip() for _ in range(500)],\n",
    "    'evento': np.random.choice(eventos, 500, p=[0.3, 0.2, 0.2, 0.05, 0.05, 0.08, 0.07, 0.03, 0.02]),\n",
    "    'usuario': np.random.choice(usuarios, 500, p=[0.1, 0.2, 0.2, 0.2, 0.1, 0.1, 0.1]),\n",
    "    'severidad': np.random.choice(['low', 'medium', 'high', 'critical'], 500, p=[0.5, 0.3, 0.15, 0.05]),\n",
    "    'exitoso': np.random.choice([True, False], 500, p=[0.8, 0.2]),\n",
    "}\n",
    "\n",
    "# Crear DataFrame\n",
    "logs_df = pd.DataFrame(data)\n",
    "\n",
    "# Configurar timestamp como índice\n",
    "logs_df['timestamp'] = pd.to_datetime(logs_df['timestamp'])\n",
    "logs_df = logs_df.sort_values('timestamp')\n",
    "\n",
    "# Ahora creamos las visualizaciones\n",
    "plt.figure(figsize=(15, 10))"
   ]
  },
  {
   "cell_type": "markdown",
   "metadata": {},
   "source": [
    "Generamos datos \n",
    "\n",
    "Generar 500 registros de logs simulados"
   ]
  },
  {
   "cell_type": "code",
   "execution_count": null,
   "metadata": {},
   "outputs": [],
   "source": [
    "# Generar 500 registros de logs simulados\n",
    "np.random.seed(42)"
   ]
  },
  {
   "cell_type": "markdown",
   "metadata": {},
   "source": [
    "Lista de eventos de seguridad"
   ]
  },
  {
   "cell_type": "code",
   "execution_count": null,
   "metadata": {},
   "outputs": [],
   "source": [
    "eventos = ['login_success', 'login_failure', 'file_access', 'admin_login', \n",
    "           'password_change', 'firewall_block', 'suspicious_activity', \n",
    "           'malware_detected', 'port_scan']"
   ]
  },
  {
   "cell_type": "markdown",
   "metadata": {},
   "source": [
    "Generar timestamps para una semana"
   ]
  },
  {
   "cell_type": "code",
   "execution_count": null,
   "metadata": {},
   "outputs": [],
   "source": [
    "fechas = pd.date_range(start='2023-01-01', periods=7)\n",
    "timestamps = []\n",
    "for fecha in fechas:\n",
    "    for hora in range(24):\n",
    "        for _ in range(3):  # 3 eventos por hora aprox\n",
    "            timestamps.append(fecha + pd.Timedelta(hours=hora) + \n",
    "                             pd.Timedelta(minutes=np.random.randint(60)))"
   ]
  },
  {
   "cell_type": "code",
   "execution_count": null,
   "metadata": {},
   "outputs": [],
   "source": [
    "print(timestamps)"
   ]
  },
  {
   "cell_type": "markdown",
   "metadata": {},
   "source": [
    "Ajustar al número de registros deseados"
   ]
  },
  {
   "cell_type": "code",
   "execution_count": null,
   "metadata": {},
   "outputs": [],
   "source": [
    "timestamps = timestamps[:500]"
   ]
  },
  {
   "cell_type": "markdown",
   "metadata": {},
   "source": [
    "Crear DataFrame"
   ]
  },
  {
   "cell_type": "code",
   "execution_count": null,
   "metadata": {},
   "outputs": [],
   "source": [
    "logs_df = pd.DataFrame(data)"
   ]
  },
  {
   "cell_type": "markdown",
   "metadata": {},
   "source": [
    "Configurar timestamp como índice"
   ]
  },
  {
   "cell_type": "code",
   "execution_count": null,
   "metadata": {},
   "outputs": [],
   "source": [
    "logs_df['timestamp'] = pd.to_datetime(logs_df['timestamp'])\n",
    "logs_df = logs_df.sort_values('timestamp')"
   ]
  },
  {
   "cell_type": "markdown",
   "metadata": {},
   "source": [
    "# Ahora creamos las visualizaciones"
   ]
  },
  {
   "cell_type": "code",
   "execution_count": null,
   "metadata": {},
   "outputs": [],
   "source": [
    "# Crear DataFrame\n",
    "logs_df = pd.DataFrame(data)\n",
    "\n",
    "# Configurar timestamp como índice\n",
    "logs_df['timestamp'] = pd.to_datetime(logs_df['timestamp'])\n",
    "logs_df = logs_df.sort_values('timestamp')\n",
    "\n",
    "# Ahora creamos las visualizaciones\n",
    "plt.figure(figsize=(15, 10))"
   ]
  },
  {
   "cell_type": "code",
   "execution_count": null,
   "metadata": {},
   "outputs": [],
   "source": [
    "# 1. Distribución de eventos por tipo\n",
    "plt.subplot(2, 2, 1)\n",
    "eventos_count = logs_df['evento'].value_counts()\n",
    "sns.barplot(x=eventos_count.index, y=eventos_count.values)\n",
    "plt.xticks(rotation=45, ha='right')\n",
    "plt.title('Distribución de Eventos por Tipo')\n",
    "plt.tight_layout()"
   ]
  },
  {
   "cell_type": "markdown",
   "metadata": {},
   "source": [
    "# 2. Distribución de eventos por severidad"
   ]
  },
  {
   "cell_type": "code",
   "execution_count": null,
   "metadata": {},
   "outputs": [],
   "source": [
    "plt.subplot(2, 2, 2)\n",
    "severidad_count = logs_df['severidad'].value_counts()\n",
    "colors = {'low': 'green', 'medium': 'blue', 'high': 'orange', 'critical': 'red'}\n",
    "plt.pie(severidad_count, labels=severidad_count.index, autopct='%1.1f%%', colors=[colors[sev] for sev in severidad_count.index])\n",
    "plt.title('Distribución de Eventos por Severidad')"
   ]
  },
  {
   "cell_type": "markdown",
   "metadata": {},
   "source": [
    "# 3. Actividad por hora del día"
   ]
  },
  {
   "cell_type": "code",
   "execution_count": null,
   "metadata": {},
   "outputs": [],
   "source": [
    "plt.subplot(2, 2, 3)\n",
    "logs_df['hour'] = logs_df['timestamp'].dt.hour\n",
    "hourly_count = logs_df.groupby('hour').size()\n",
    "sns.lineplot(x=hourly_count.index, y=hourly_count.values)\n",
    "plt.title('Actividad por Hora del Día')\n",
    "plt.xlabel('Hora')\n",
    "plt.ylabel('Número de Eventos')"
   ]
  },
  {
   "cell_type": "code",
   "execution_count": null,
   "metadata": {},
   "outputs": [],
   "source": [
    "# 4. Eventos por día y por severidad\n",
    "# plt.subplot(2, 2, 4)\n",
    "logs_df['date'] = logs_df['timestamp'].dt.date\n",
    "pivot_table = pd.crosstab(logs_df['date'], logs_df['severidad'])\n",
    "pivot_table.plot(kind='bar', stacked=True, colormap='viridis')\n",
    "plt.title('Eventos por Día y Severidad')\n",
    "plt.xlabel('Fecha')\n",
    "plt.ylabel('Número de Eventos')\n",
    "plt.xticks(rotation=45)\n",
    "\n",
    "plt.tight_layout()\n",
    "plt.savefig('security_dashboard.png')"
   ]
  }
 ],
 "metadata": {
  "kernelspec": {
   "display_name": "base",
   "language": "python",
   "name": "python3"
  },
  "language_info": {
   "codemirror_mode": {
    "name": "ipython",
    "version": 3
   },
   "file_extension": ".py",
   "mimetype": "text/x-python",
   "name": "python",
   "nbconvert_exporter": "python",
   "pygments_lexer": "ipython3",
   "version": "3.12.7"
  }
 },
 "nbformat": 4,
 "nbformat_minor": 2
}
